{
 "cells": [
  {
   "cell_type": "markdown",
   "id": "b6303b58-8e85-44f7-a096-c329791fcda6",
   "metadata": {},
   "source": [
    "# Let's parse the irish dataset"
   ]
  },
  {
   "cell_type": "markdown",
   "id": "8d0b0db3-3f1a-4cb9-9a09-7d6bc4e7b5d1",
   "metadata": {},
   "source": [
    "# Data files"
   ]
  },
  {
   "cell_type": "code",
   "execution_count": null,
   "id": "e85017da-3912-4f9d-9038-13048f8ba05e",
   "metadata": {},
   "outputs": [],
   "source": [
    "%%time\n",
    "from pathlib import Path\n",
    "import pandas as pd\n",
    "import numpy as np\n",
    "from irish_preprocess import preprocess_irish_data"
   ]
  },
  {
   "cell_type": "code",
   "execution_count": null,
   "id": "d9bf13e5-b4a7-4e33-8e43-37fd08062906",
   "metadata": {},
   "outputs": [],
   "source": [
    "irish_path = Path('/cw/dtaidata/ml/2023-irishElectricityProfiles/irish/original_dataset')\n",
    "output_path =Path('/cw/dtaidata/ml/2023-irishElectricityProfiles/irish/before_raw_data')\n",
    "output_path.mkdir(exist_ok = True)\n",
    "result_path = Path('/cw/dtaidata/ml/2023-irishElectricityProfiles/irish/raw_data')\n",
    "result_path.mkdir(exist_ok = True)\n",
    "preprocessed_path =Path('/cw/dtaidata/ml/2023-irishElectricityProfiles/irish/preprocessed')\n",
    "preprocessed_path.mkdir(exist_ok = True)\n",
    "if not (output_path/'raw_data_df.pkl').exists():      \n",
    "    preprocess_irish_data(irish_path, output_path)\n",
    "raw_data_df = pd.read_pickle(output_path/'raw_data_df.pkl')\n",
    "allocation_df = pd.read_pickle(output_path/'raw_allocation_df.pkl')\n",
    "yearly_info_df = pd.read_pickle(output_path/'raw_yearly_info_df.pkl')"
   ]
  },
  {
   "cell_type": "markdown",
   "id": "8dfa9584-b275-444c-9a7d-918626f39335",
   "metadata": {},
   "source": [
    "## Data df"
   ]
  },
  {
   "cell_type": "code",
   "execution_count": null,
   "id": "65f82523-1d66-46fc-9601-f6347b0b79b1",
   "metadata": {},
   "outputs": [],
   "source": [
    "# only use Residential profiles which have answered the survey\n",
    "# There are also 'Other' profiles that have answered the survey but they have LOTS of missing data \n",
    "residential_profiles = allocation_df[allocation_df.type == 'Residential'].index\n",
    "data_df = raw_data_df.loc[yearly_info_df.index.intersection(residential_profiles)]\n"
   ]
  },
  {
   "cell_type": "code",
   "execution_count": null,
   "id": "11e06aed-56dd-4b8a-aa61-8b26fbb43db0",
   "metadata": {},
   "outputs": [],
   "source": [
    "data_df"
   ]
  },
  {
   "cell_type": "code",
   "execution_count": null,
   "id": "cf34136f-b3db-46d2-9404-1d174b912c06",
   "metadata": {},
   "outputs": [],
   "source": [
    "data_df.to_pickle(result_path/'raw_data_df.pkl')"
   ]
  },
  {
   "cell_type": "markdown",
   "id": "c1a86bdf-dac8-4ee0-b19f-3a1a1646657d",
   "metadata": {},
   "source": [
    "# Info df "
   ]
  },
  {
   "cell_type": "code",
   "execution_count": null,
   "id": "2a0d2e72-79f9-436d-89c7-578661e92a89",
   "metadata": {},
   "outputs": [],
   "source": [
    "# filter out the same profiles as the data_df \n",
    "yearly_info_df = yearly_info_df.loc[data_df.index]"
   ]
  },
  {
   "cell_type": "code",
   "execution_count": null,
   "id": "52f7835e-e627-4f12-9bbd-96d6a533d647",
   "metadata": {},
   "outputs": [],
   "source": [
    "yearly_info_df.to_pickle(result_path/'raw_info_df_features.pkl')"
   ]
  },
  {
   "cell_type": "code",
   "execution_count": null,
   "id": "389006ec-1bec-465d-9542-9b4cc2c802d4",
   "metadata": {},
   "outputs": [],
   "source": [
    "yearly_info_df = (\n",
    "    yearly_info_df.fillna(dict(\n",
    "        age = -1, \n",
    "        home_type = 'Unknown', \n",
    "        build_year = -1, \n",
    "        home_age = -1, \n",
    "        floor_area = -1, \n",
    "        number_of_bedrooms = -1,\n",
    "    ))\n",
    "    .astype(dict(\n",
    "        age = 'int8', \n",
    "        build_year = 'int16', \n",
    "        home_age = 'int8', \n",
    "        floor_area = 'int32', \n",
    "        number_of_bedrooms = 'int8',\n",
    "    ))\n",
    "    .pipe(lambda x: pd.concat([x, pd.get_dummies(x[['home_type', 'cooking']], prefix = ['home_type', 'cooking'])], axis = 1))\n",
    "    .drop(columns = ['home_type', 'cooking'])\n",
    ")\n",
    "yearly_info_df.to_pickle(result_path/'raw_info_df_numerical.pkl')"
   ]
  },
  {
   "cell_type": "markdown",
   "id": "1bc6fcc7-9a49-4cce-8a8f-1a85836cfe09",
   "metadata": {},
   "source": [
    "## Daily info df"
   ]
  },
  {
   "cell_type": "code",
   "execution_count": null,
   "id": "4eddcb0b-854a-4408-8ac8-ff1e9cc424d5",
   "metadata": {},
   "outputs": [],
   "source": [
    "from util import transform_raw_data_and_save, check_dataset\n",
    "\n",
    "yearly_data_df, daily_data_df, yearly_info_df, daily_info_df = transform_raw_data_and_save(\n",
    "    raw_data_df = result_path/'raw_data_df.pkl', \n",
    "    yearly_info_df = result_path/'raw_info_df_numerical.pkl', \n",
    "    result_path = preprocessed_path, \n",
    "    weather_city = 'Dublin',\n",
    "    holiday_country = 'ireland', \n",
    "    year_to_use_as_index = 2010\n",
    ")\n",
    "check_dataset((yearly_data_df, daily_data_df, yearly_info_df, daily_info_df))"
   ]
  },
  {
   "cell_type": "code",
   "execution_count": null,
   "id": "4b1b5c75-987b-4402-8576-e17811a9010b",
   "metadata": {},
   "outputs": [],
   "source": [
    "yearly_data_df"
   ]
  },
  {
   "cell_type": "code",
   "execution_count": null,
   "id": "7dbc207d-bc1a-4015-83fe-9a70e46e1a64",
   "metadata": {},
   "outputs": [],
   "source": [
    "daily_data_df.dtypes"
   ]
  },
  {
   "cell_type": "code",
   "execution_count": null,
   "id": "abbb71f8-75e3-4e4d-bad5-6ef416055351",
   "metadata": {},
   "outputs": [],
   "source": [
    "yearly_info_df"
   ]
  },
  {
   "cell_type": "code",
   "execution_count": null,
   "id": "0b0c88a3-86fd-48db-b942-23c71f4d2072",
   "metadata": {},
   "outputs": [],
   "source": [
    "daily_info_df"
   ]
  }
 ],
 "metadata": {
  "kernelspec": {
   "display_name": "scengen",
   "language": "python",
   "name": "scengen"
  },
  "language_info": {
   "codemirror_mode": {
    "name": "ipython",
    "version": 3
   },
   "file_extension": ".py",
   "mimetype": "text/x-python",
   "name": "python",
   "nbconvert_exporter": "python",
   "pygments_lexer": "ipython3",
   "version": "3.10.8"
  }
 },
 "nbformat": 4,
 "nbformat_minor": 5
}
