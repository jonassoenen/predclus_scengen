{
 "cells": [
  {
   "cell_type": "code",
   "execution_count": null,
   "id": "f8e0c737-d9f2-4b38-91f8-566a6f65b67e",
   "metadata": {},
   "outputs": [],
   "source": [
    "import pandas as pd\n",
    "import altair as alt\n",
    "import numpy as np\n",
    "from pathlib import Path\n",
    "import re"
   ]
  },
  {
   "cell_type": "code",
   "execution_count": null,
   "id": "b0adafa5-5a86-402b-9f91-1ef21238ead4",
   "metadata": {},
   "outputs": [],
   "source": [
    "root_path = Path('/cw/dtaidata/ml/2023-irishElectricityProfiles/london/original_dataset/csv/data_collection/data_tables')\n",
    "result_path = Path('/cw/dtaidata/ml/2023-irishElectricityProfiles/london/raw_data')\n",
    "preprocessed_path = Path('/cw/dtaidata/ml/2023-irishElectricityProfiles/london/preprocessed')\n",
    "result_path.mkdir(exist_ok = True)\n",
    "preprocessed_path.mkdir(exist_ok = True)"
   ]
  },
  {
   "cell_type": "markdown",
   "id": "faa1d334-0b11-4c88-aa08-e096eb8eb572",
   "metadata": {},
   "source": [
    "## Data_df"
   ]
  },
  {
   "cell_type": "code",
   "execution_count": null,
   "id": "9d9947c0-1c89-454d-ab73-1b9fb71c9842",
   "metadata": {},
   "outputs": [],
   "source": [
    "new_index = pd.date_range('2012-01-01 00:00', '2012-12-31 23:30', freq = '30min')\n",
    "data_df = (\n",
    "    # read all data files and concat\n",
    "    pd.concat((pd.read_csv(path, index_col = 0) for path in root_path.glob('consumption*')), axis = 1)\n",
    "    \n",
    "    # make index datetime \n",
    "    .pipe(lambda x: x.set_axis(pd.to_datetime(x.index), axis = 0))\n",
    "\n",
    ")\n",
    "\n",
    "raw_data_df = (\n",
    "    # start from the data df\n",
    "    data_df\n",
    "    \n",
    "    # transpose \n",
    "    .T \n",
    "    \n",
    "    # name axis \n",
    "    .sort_index()\n",
    "    .rename_axis('meterID', axis = 0)\n",
    "    .rename_axis('timestamp', axis = 1)\n",
    "    \n",
    "    # drop the incomplete days at the start and end\n",
    "    .loc[:, '2011-11-24':'2014-02-27 23:30']\n",
    ")\n",
    "\n",
    "\n",
    "display(raw_data_df.head())\n",
    "raw_data_df.to_pickle(result_path/'raw_data_df.pkl')\n"
   ]
  },
  {
   "cell_type": "markdown",
   "id": "2c972b76-2dc3-4fc7-a873-5990469df86d",
   "metadata": {},
   "source": [
    "# Read info df and give columns names"
   ]
  },
  {
   "cell_type": "code",
   "execution_count": null,
   "id": "267904ba-2079-4fa9-809a-03c8262af7c4",
   "metadata": {},
   "outputs": [],
   "source": [
    "questions = pd.read_csv(root_path/'survey_questions.csv', index_col = 0).drop(columns = 'Survey')\n",
    "questions.head()"
   ]
  },
  {
   "cell_type": "code",
   "execution_count": null,
   "id": "fa878166-9d97-4555-b4d7-909cb0cddc29",
   "metadata": {},
   "outputs": [],
   "source": [
    "info_df = (\n",
    "    # read the survey answers\n",
    "    pd.read_csv(root_path/'survey_answers.csv', low_memory = False, index_col = 0)\n",
    "    \n",
    "    # select appliance questionaire\n",
    "    .loc[:, 'Q211':]\n",
    "    \n",
    "    # give the columns a better name based on the question dataframe\n",
    "    .stack()\n",
    "    .to_frame('answer')\n",
    "    .rename_axis(index = ['meterID', 'Question_id'])\n",
    "    .join(questions.shift(-1))\n",
    "    .reset_index()\n",
    "    .assign(\n",
    "        question = lambda x: x['Question_id'].str.cat(x['Question'], sep = ': ')\n",
    "    )\n",
    "    .set_index(['meterID', 'question'])\n",
    "    .drop(columns = ['Question_id', 'Question'])\n",
    "    .unstack()\n",
    "    .droplevel(0, axis = 1)\n",
    "    .iloc[:, 1:]\n",
    ")\n",
    "\n",
    "info_df.head()"
   ]
  },
  {
   "cell_type": "markdown",
   "id": "15d9bad9-6315-49a6-9291-5b715641b46e",
   "metadata": {},
   "source": [
    "# Preprocess questionair into features"
   ]
  },
  {
   "cell_type": "code",
   "execution_count": null,
   "id": "612baa46-0188-4df5-9b3e-bdeebaa7afd2",
   "metadata": {},
   "outputs": [],
   "source": [
    "# store all preprocessed features here \n",
    "features = pd.DataFrame(index = info_df.index)"
   ]
  },
  {
   "cell_type": "markdown",
   "id": "005c1942-8b90-442c-a868-351beaadb1cb",
   "metadata": {},
   "source": [
    "## Features to keep and just rename"
   ]
  },
  {
   "cell_type": "code",
   "execution_count": null,
   "id": "fa9c1a83-7c3d-4bc4-bdee-4781e805376f",
   "metadata": {},
   "outputs": [],
   "source": [
    "APPLIANCE_COLUMNS =['Q279: No. Fridges: type 1', 'Q280: No. Fridges: type 2',\n",
    "       'Q281: No. Fridges: type 3', 'Q282: No. Fridges: type 4',\n",
    "       'Q283: No. Freezers: type 1', 'Q284: No. Freezers: type 2',\n",
    "       'Q285: No. Freezers: type 3', 'Q286: No. Freezers: type 4',\n",
    "       'Q287: No. Freezers: type 5', 'Q288: No. Freezers: type 6',\n",
    "       'Q289: No. Fridge-Freezers: type 1',\n",
    "       'Q290: No. Fridge-Freezers: type 2',\n",
    "       'Q291: No. Fridge-Freezers: type 3',\n",
    "       'Q292: No. Fridge-Freezers: type 4', 'Q293: No. Electric hob',\n",
    "       'Q294: No. Gas hob', 'Q295: No. Electric oven', 'Q296: No. Microwave',\n",
    "       'Q297: No. Washing machine (not with dryer)', 'Q298: No. Tumble dryer',\n",
    "       'Q299: No. Washer-dryer', 'Q300: No. Dishwasher',\n",
    "       'Q301: No. Electric shower',\n",
    "       'Q302: No. Over-sink electric water heater',\n",
    "       'Q303: No. Portable electric heater', 'Q304: No. Television',\n",
    "       'Q305: No. Desktop PC/computer', 'Q306: No. Laptop computer',\n",
    "       'Q307: No. Printer', 'Q308: No. Router (for broadband internet)',\n",
    "       'Q309: No. Dvd/blu-ray player', 'Q310: No. Cable TV box (e.g., Virgin)',\n",
    "       'Q311: No. Satellite TV box (E.g., Sky)', 'Q312: No. Freeview TV box',\n",
    "       'Q313: No. Games console', 'Q314: No. Standby savers']\n",
    "appliance_rename = {key: key[10:] for key in APPLIANCE_COLUMNS}\n",
    "\n",
    "TV_COLUMNS = [ 'Q315: TV Type 1', 'Q316: TV Type 2', 'Q317: TV Type 3',\n",
    "       'Q318: TV Type 4', 'Q319: TV Type 5', 'Q320: TV Type 6']\n",
    "tv_rename = {key: key[6:] for key in TV_COLUMNS} \n",
    "\n",
    "manual_rename =  {\n",
    "    'Q213: Household Size': 'nb_of_inhabitants', \n",
    "    'Q234: Work from home': 'work_from_home', \n",
    "    'Q238: Rooms in home': 'nb_of_rooms',\n",
    "    'Q239: Bedrooms': 'nb_of_bedrooms', \n",
    "    'Q240: Insulation: Double glazing': 'insulation_double_glazing', \n",
    "    'Q241: Insulation: Roof or loft insulation': 'insulation_roof', \n",
    "    'Q242: Insulation: Wall insulation': 'insulation_walls',\n",
    "    'Q243: Insulation: Floor insulation': 'insulation_floor',\n",
    "    'Q244: Insulation: Hot water tank insulation/lagging': 'insulation_warm_water_tank', \n",
    "}\n",
    "\n",
    "appliance_rename = {**appliance_rename, **tv_rename, **manual_rename}\n",
    "\n",
    "new_features = info_df[appliance_rename.keys()].rename(columns = appliance_rename)\n",
    "print('features kept without preprocessing:')\n",
    "with pd.option_context('display.max_rows', None, 'display.max_columns', 2) : \n",
    "    display(new_features.T)\n",
    "\n",
    "features = features.join(new_features)\n",
    "\n",
    "info_df = info_df.drop(columns = appliance_rename.keys())"
   ]
  },
  {
   "cell_type": "markdown",
   "id": "301fc6ff-ba3c-4c01-a8c0-40ab1bc0be72",
   "metadata": {},
   "source": [
    "## Number of males and females"
   ]
  },
  {
   "cell_type": "code",
   "execution_count": null,
   "id": "9c087436-816b-4c02-9251-38e036b92bec",
   "metadata": {},
   "outputs": [],
   "source": [
    "GENDER_COLUMNS = ['Q214: Household Member 1 Gender', 'Q215: Household Member 2  Gender',\n",
    "       'Q216: Household Member 3 Gender', 'Q217: Household Member 4 Gender',\n",
    "       'Q218: Household Member 5 Gender', 'Q219: Household Member 6 Gender',\n",
    "       'Q220: Household Member 7 Gender', 'Q221: Household Member 8 Gender']\n",
    "\n",
    "\n",
    "gender_info = info_df[GENDER_COLUMNS]\n",
    "print('original')\n",
    "display(gender_info.head())\n",
    "\n",
    "features['nb_of_males'] = (gender_info == 'Male').sum(axis = 1)\n",
    "features['nb_of_females'] = (gender_info == 'Female').sum(axis = 1)\n",
    "\n",
    "print('derived features')\n",
    "display(features[['nb_of_males', 'nb_of_females']].head())\n",
    "\n",
    "info_df = info_df.drop(columns = GENDER_COLUMNS)"
   ]
  },
  {
   "cell_type": "markdown",
   "id": "51e5e440-1be4-4cf6-8977-71feb7c70717",
   "metadata": {},
   "source": [
    "## Min, max and mean inhabitant age"
   ]
  },
  {
   "cell_type": "code",
   "execution_count": null,
   "id": "15cc4a89-3f85-49b2-ab5f-9af7d6c64dc4",
   "metadata": {},
   "outputs": [],
   "source": [
    "AGE_COLUMNS = ['Q222: Household Member 1 Age', 'Q223: Household Member 2  Age',\n",
    "       'Q224: Household Member 3 Age', 'Q225: Household Member 4 Age',\n",
    "       'Q226: Household Member 5 Age', 'Q227: Household Member 6 Age',\n",
    "       'Q228: Household Member 7 Age', 'Q229: Household Member 8 Age']\n",
    "\n",
    "age = (\n",
    "    info_df.loc[:, AGE_COLUMNS]\n",
    ")\n",
    "\n",
    "print('original')\n",
    "display(age.head())\n",
    "\n",
    "ages = age.stack().unique()\n",
    "ages.sort()\n",
    "replace_dict = {\n",
    "    \"Don't know\": np.NAN\n",
    "}\n",
    "for key in ages[:-1]: \n",
    "    result = re.findall(r'\\d+', key)\n",
    "    replace_dict[key] = np.array(result).astype(float).mean()\n",
    "replace_dict\n",
    "\n",
    "age_features = (\n",
    "    age.replace(replace_dict)\n",
    "    .agg(['mean', 'min', 'max'], axis = 1)\n",
    "    .set_axis(['mean_age', 'min_age', 'max_age'], axis = 1)\n",
    "    # fill missing with mean of column\n",
    "    .pipe(lambda df: df.fillna(df.mean(axis = 0)))\n",
    ")\n",
    "\n",
    "display('derived features')\n",
    "display(age_features)\n",
    "\n",
    "# add the the features dataframe\n",
    "features = features.join(age_features)\n",
    "\n",
    "info_df = info_df.drop(columns = AGE_COLUMNS)"
   ]
  },
  {
   "cell_type": "markdown",
   "id": "2a6a90ab-d13a-4fb4-8619-a96c2881f281",
   "metadata": {},
   "source": [
    "## Home ownership feature"
   ]
  },
  {
   "cell_type": "code",
   "execution_count": null,
   "id": "b6bc85a8-86fc-48bb-b4e3-383a8544697b",
   "metadata": {},
   "outputs": [],
   "source": [
    "home_ownership_replace_dict = {\n",
    "    'Rents (with or without housing benefit) - from private landlord' : 'Rents' ,\n",
    "    'Owns outright' : 'Owns' ,\n",
    "    'Rents (with or without housing benefit) - from local authority/Council or Housing Association' : 'Rents' ,\n",
    "    'Part owns and part rents (shared ownership)' : 'Shared ownership' ,\n",
    "    'Owns with a mortgage or loan' : 'Owns' ,\n",
    "    'Other' : 'Other' ,\n",
    "    'Lives here rent-free' : 'Rent-free' ,\n",
    "    'Other Other: LEASEHOLDER' : 'Rents' ,\n",
    "    'Part owns and part rents (shared ownership) Other: HOUSING ASSOCIATION' : 'Rents' ,\n",
    "    'Other Other: comes with job' : 'Rents' ,\n",
    "    'Rents (with or without housing benefit) - from private landlord Other: SHELTERED ACCOMMODATION' : 'Rents' ,\n",
    "    'Rents (with or without housing benefit) - from local authority/Council or Housing Association Other: SHARED OWNERSHIP' : 'Shared ownership' ,\n",
    "    'Other Other: LEASE HOLDER' : 'Rents' ,\n",
    "    'Other: RESIDENTIAL HOME' : 'Rents' ,\n",
    "    'Other Other: COUNCIL' : 'Rents' ,\n",
    "    'Other Other: RENTS FROM HM FORCES' : 'Rents' ,\n",
    "    'Other Other: LEASEHOLD/OWNERSHIP' : 'Rents' ,\n",
    "    'Other: LEASEHOLD' : 'Rents' ,\n",
    "    'Other Other: SHELTERED HOUSING' : 'Rents' ,\n",
    "    'Other Other: Rather not say' : 'Missing' ,\n",
    "    'Owns outright Other: SHELTERED ACCOMMODATION' : 'Rents' ,\n",
    "    'Other Other: RENT FROM LOCAL HOUSING CO-OPERATIVE' : 'Rents' ,\n",
    "    'Part owns and part rents (shared ownership) Other: SHELTERED HOUSING' : 'Rents' ,\n",
    "}\n",
    "\n",
    "print('before preprocessing')\n",
    "display(info_df['Q231: Newspapers - Printed'].value_counts(dropna=False).to_frame('count'))\n",
    "\n",
    "\n",
    "# weird error in the column naming \n",
    "features['home_ownership'] = info_df['Q231: Newspapers - Printed'].replace(home_ownership_replace_dict)\n",
    "\n",
    "print('after preprocessing') \n",
    "display(features['home_ownership'].value_counts(dropna = False).to_frame('count'))\n",
    "\n",
    "info_df = info_df.drop(columns = 'Q231: Newspapers - Printed')"
   ]
  },
  {
   "cell_type": "markdown",
   "id": "c31daa18-66fa-4483-be3d-33d91d5febaf",
   "metadata": {},
   "source": [
    "## Building type"
   ]
  },
  {
   "cell_type": "code",
   "execution_count": null,
   "id": "1c5965b2-fa82-4315-a0e6-e3830487a54a",
   "metadata": {},
   "outputs": [],
   "source": [
    "house_replacement = {\n",
    "    'Terraced - middle': 'house-terraced', \n",
    "    'Terraced - end': 'house-semi-detached', \n",
    "    'Semi-detached': 'house-semi-detached', \n",
    "    'Detached': 'house-detached'\n",
    "}\n",
    "\n",
    "flat_replacement = {\n",
    "    'In a purpose built block or tenement': 'flat',\n",
    "\t'Part of a converted house/building': 'flat',\n",
    "\t'In a commercial building, (for example in an office building, hotel, or over a shop)': 'flat',\n",
    "}\n",
    "\n",
    "mobile_replacement = {\n",
    "    'A caravan or other mobile or temporary structure': 'mobile',\n",
    "}\n",
    "\n",
    "BUILDING_COLUMNS = ['Q235: Accomodation: House', 'Q236: Accomodation: Flat', 'Q237: Accomodation: Mobile']\n",
    "\n",
    "print('before preprocessing')\n",
    "display(info_df[BUILDING_COLUMNS])\n",
    "\n",
    "building_type = (\n",
    "    info_df[BUILDING_COLUMNS]\n",
    "    .set_axis(['house', 'flat', 'mobile'], axis = 1)\n",
    "    .replace(house_replacement)\n",
    "    .replace(flat_replacement)\n",
    "    .replace(mobile_replacement)\n",
    ")\n",
    "# fill in the correct values (some people filled some things twice)\n",
    "building_type.loc[lambda x: ~x.flat.isna(), 'house'] = building_type.loc[lambda x: ~x.flat.isna(), 'flat']\n",
    "building_type.loc[lambda x: ~x.mobile.isna(), 'house'] = building_type.loc[lambda x: ~x.mobile.isna(), 'mobile']\n",
    "\n",
    "building_type_feature = building_type.house.to_frame('building_type')\n",
    "building_type_feature\n",
    "\n",
    "print('after preprocessing')\n",
    "display(building_type_feature) \n",
    "\n",
    "features = features.join(building_type_feature)\n",
    "\n",
    "info_df = info_df.drop(columns = BUILDING_COLUMNS)"
   ]
  },
  {
   "cell_type": "markdown",
   "id": "0171994d-ac8e-4a45-967c-01a9fd12f46e",
   "metadata": {},
   "source": [
    "## Central heating type"
   ]
  },
  {
   "cell_type": "code",
   "execution_count": null,
   "id": "623b27cb-d4a8-4813-a2cc-a8c8a13bddba",
   "metadata": {},
   "outputs": [],
   "source": [
    "raw_heating = info_df['Q246: Central heating']\n",
    "\n",
    "print('before_preprocessing')\n",
    "display(raw_heating.value_counts(dropna = False).to_frame('count'))\n",
    "\n",
    "central_heating_features = (\n",
    "    pd.DataFrame(index = info_df.index, columns = ['gas', 'electric', 'other', 'solid', 'oil'])\n",
    "    .assign(\n",
    "        gas = raw_heating.str.contains('Gas'), \n",
    "        electric = raw_heating.str.contains('Electric'), \n",
    "        other = raw_heating.str.contains('Other central heating'), \n",
    "        solid = raw_heating.str.contains('Solid fuel'), \n",
    "        oil = raw_heating.str.contains('Oil')\n",
    "    )\n",
    "    .pipe(lambda x: x.set_axis('heating_'+x.columns, axis = 1))\n",
    ")\n",
    "print('after preprocessing')\n",
    "display(central_heating_features)\n",
    "\n",
    "features = features.join(central_heating_features)\n",
    "\n",
    "info_df = info_df.drop(columns = 'Q246: Central heating')"
   ]
  },
  {
   "cell_type": "markdown",
   "id": "f6ee3695-5a91-4de1-843e-74c8bb531bc8",
   "metadata": {},
   "source": [
    "## Heating control features"
   ]
  },
  {
   "cell_type": "code",
   "execution_count": null,
   "id": "074c79a3-c0c6-45ed-850d-055106172970",
   "metadata": {},
   "outputs": [],
   "source": [
    "# if string contains key, replace with value\n",
    "replacement_dict = {\n",
    "    'switches on and off automatically at set times': 'heating_control_automatic_timed', \n",
    "    'manually at the boiler when needed': 'heating_control_manual_boiler',\n",
    "    'automatically by a thermostatic': 'heating_control_automatic_temperature', \n",
    "    'control room temperature using thermostatic valves on the radiators': 'heating_control_manual_valves', \n",
    "    \"I'm not sure\": 'heating_control_unknown',\n",
    "    \"nan\": 'heating_control_unknown'\n",
    "}\n",
    "\n",
    "\n",
    "raw_heating_control = info_df.loc[:, 'Q247: Central heating - control'].astype('str')\n",
    "\n",
    "print('before preprocessing') \n",
    "display(raw_heating_control.value_counts(dropna = False).to_frame('count')) \n",
    "\n",
    "heating_control_features = pd.DataFrame(index = info_df.index)\n",
    "\n",
    "for key,value in replacement_dict.items(): \n",
    "    if value not in heating_control_features.columns:\n",
    "        heating_control_features[value] = raw_heating_control.str.contains(key)\n",
    "    else: \n",
    "        heating_control_features[value] = heating_control_features[value] | raw_heating_control.str.contains(key)\n",
    "heating_control_features\n",
    "\n",
    "features = features.join(heating_control_features)\n",
    "print('after preprocessing')\n",
    "display(heating_control_features) \n",
    "\n",
    "info_df = info_df.drop(columns ='Q247: Central heating - control')"
   ]
  },
  {
   "cell_type": "markdown",
   "id": "404528df-6da4-4765-90c0-8f2b11a21f70",
   "metadata": {},
   "source": [
    "## Water heating"
   ]
  },
  {
   "cell_type": "code",
   "execution_count": null,
   "id": "8140cafd-a046-4a45-b894-66fdb75dbfbc",
   "metadata": {},
   "outputs": [],
   "source": [
    "# if string contains key, fill in value\n",
    "replacement_dict = {\n",
    "    'Hot water storage tank with gas boiler - used for both central heating and hot water': 'gas_w_storage',\n",
    "    \"Gas boiler (without hot water storage tank) - used for both central heating and hot water ('combi' boiler)\": 'gas', \n",
    "    \"Hot water storage tank with electric immersion heater\": 'electric_w_storage', \n",
    "    \"Hot water storage tank with gas boiler - used for hot water only\": 'gas_w_storage',\n",
    "    \"Gas boiler (without hot water storage tank) - used for hot water only\": 'gas', \n",
    "    \"Other\": 'other', \n",
    "    \"Don't know\": np.nan, \n",
    "    np.nan: np.nan, \n",
    "}\n",
    "\n",
    "print('before preprocessing') \n",
    "display(info_df['Q248: Heating water'].value_counts(dropna = False).to_frame('value'))\n",
    "\n",
    "heating_water_features = (\n",
    "    info_df['Q248: Heating water']\n",
    "    .astype('str')\n",
    "    # some literal matching \n",
    "    .mask(lambda x: x.str.contains('Hot water storage tank with gas boiler - used for both central heating and hot water'), 'gas_w_storage')\n",
    "    .mask(lambda x: x.str.contains(\"Gas boiler (without hot water storage tank) - used for both central heating and hot water\", regex = False), 'gas')\n",
    "    .mask(lambda x: x.str.contains(\"Hot water storage tank with electric immersion heater\"), 'electric_w_storage')\n",
    "    .mask(lambda x: x.str.contains(\"Hot water storage tank with gas boiler - used for hot water only\", regex = False), 'gas_w_storage')\n",
    "    .mask(lambda x: x.str.contains(\"Gas boiler (without hot water storage tank) - used for hot water only\", regex = False), 'gas')\n",
    "    # if other but gas mentioned -> gas \n",
    "    .mask(lambda x: x.str.contains(\"Other\") & x.str.lower().str.contains('gas'), 'gas')\n",
    "    # if other but electric mentioned -> electric \n",
    "    .mask(lambda x: x.str.contains(\"Other\") & x.str.lower().str.contains('electric'), 'electric_w_storage')\n",
    "    # remaining others are NaN\n",
    "    .mask(lambda x: x.str.contains(\"Don't know\") | x.str.contains('Other') , np.nan)\n",
    "    .to_frame('water_heating')\n",
    ")\n",
    "print('after_preprocessing') \n",
    "display(heating_water_features.value_counts().to_frame('count'))\n",
    "\n",
    "features = features.join(heating_water_features) \n",
    "info_df = info_df.drop(columns = 'Q248: Heating water')"
   ]
  },
  {
   "cell_type": "markdown",
   "id": "def5a56e-acc6-4bbe-a42f-76eab3f937f7",
   "metadata": {},
   "source": [
    "## Irrelevant columns\n",
    "Everything that remains is 'irrelevant'"
   ]
  },
  {
   "cell_type": "code",
   "execution_count": null,
   "id": "b9dafa00-dc18-4d9c-af5b-d0adfb472055",
   "metadata": {},
   "outputs": [],
   "source": [
    "\n",
    "with pd.option_context('display.max_rows', None, 'display.max_columns', 2) : \n",
    "    display(info_df.T)"
   ]
  },
  {
   "cell_type": "markdown",
   "id": "a21fc927-6371-47f3-a237-4aa4b75d4284",
   "metadata": {},
   "source": [
    "## preprocessed features"
   ]
  },
  {
   "cell_type": "markdown",
   "id": "2a30db6c-1e50-4f2b-b1fd-7d30dbb92084",
   "metadata": {},
   "source": [
    "Overview of the preprocessed features"
   ]
  },
  {
   "cell_type": "code",
   "execution_count": null,
   "id": "28292b5c-c1a5-4d23-8599-f211eb153a03",
   "metadata": {},
   "outputs": [],
   "source": [
    "with pd.option_context('display.max_rows', None, 'display.max_columns', 2) : \n",
    "    display(features.T)\n",
    "info_df = features"
   ]
  },
  {
   "cell_type": "code",
   "execution_count": null,
   "id": "fd29ac85-ff89-46af-80b2-4d4daac2ca50",
   "metadata": {},
   "outputs": [],
   "source": [
    "info_df.to_pickle(result_path/'raw_info_df_features.pkl')"
   ]
  },
  {
   "cell_type": "markdown",
   "id": "ed0ed7ef-bba7-4858-ae6f-2a71cc35228c",
   "metadata": {},
   "source": [
    "# Final preprocessing for the tree models"
   ]
  },
  {
   "cell_type": "markdown",
   "id": "f6f47504-3779-4bed-a7b0-686729aa9d64",
   "metadata": {},
   "source": [
    "## Gender columns are OK"
   ]
  },
  {
   "cell_type": "markdown",
   "id": "afdeb89f-844d-4cc5-a5cc-cef1ec973b8e",
   "metadata": {},
   "source": [
    "## Water heating, fill NaNs as value between electrical and gas "
   ]
  },
  {
   "cell_type": "code",
   "execution_count": null,
   "id": "c164b649-df63-467f-b62c-93af5627a774",
   "metadata": {},
   "outputs": [],
   "source": [
    "print('before preprocessing') \n",
    "display(info_df.water_heating.value_counts(dropna = False))\n",
    "\n",
    "info_df['water_heating'] = info_df['water_heating'].replace({\n",
    "    'electric_w_storage': 1, \n",
    "    np.NaN: 1.5, \n",
    "    'nan': 1.5, \n",
    "    'gas':2, \n",
    "    'gas_w_storage': 3\n",
    "})\n",
    "\n",
    "print('after preprocessing')\n",
    "info_df.water_heating.value_counts(dropna = False)"
   ]
  },
  {
   "cell_type": "markdown",
   "id": "12c8582e-3cf4-4d1f-aca9-d7f2da636199",
   "metadata": {},
   "source": [
    "## Fill NaN with means for nb_of_inhabitants, nb_of_rooms, nb_of_bedrooms"
   ]
  },
  {
   "cell_type": "code",
   "execution_count": null,
   "id": "e9d2f0de-efd5-4eec-ac0c-5fef315ad516",
   "metadata": {},
   "outputs": [],
   "source": [
    "print('before preprocessing') \n",
    "display(info_df.nb_of_inhabitants.value_counts(dropna = False))\n",
    "\n",
    "columns = ['nb_of_inhabitants', 'nb_of_rooms', 'nb_of_bedrooms']\n",
    "info_df = info_df.fillna(info_df[columns].mean(axis = 0))\n",
    "print('after preprocessing')\n",
    "info_df.nb_of_inhabitants.value_counts(dropna = False)"
   ]
  },
  {
   "cell_type": "markdown",
   "id": "30d0dbd6-2fe0-4bbb-a5c9-bdeab8a9e2f9",
   "metadata": {},
   "source": [
    "## Home ownership: fill NaN's and encode as one_hot_encoding"
   ]
  },
  {
   "cell_type": "code",
   "execution_count": null,
   "id": "cb34c969-98c6-494d-8244-50ffeb64a55b",
   "metadata": {},
   "outputs": [],
   "source": [
    "print('before preprocessing') \n",
    "info_df.home_ownership.value_counts(dropna = False)"
   ]
  },
  {
   "cell_type": "code",
   "execution_count": null,
   "id": "e47da6f2-160f-41cc-adef-19bf5e2f8871",
   "metadata": {},
   "outputs": [],
   "source": [
    "info_df['home_ownership'] = info_df['home_ownership'].replace({np.NaN: 'Missing'}).str.lower().str.replace(' ', '_')\n",
    "info_df.home_ownership.value_counts(dropna = False)\n",
    "\n",
    "home_ownership_features = pd.get_dummies(info_df['home_ownership'], prefix = 'home_ownership')\n",
    "\n",
    "info_df = (\n",
    "    info_df\n",
    "    .drop(columns = 'home_ownership')\n",
    "    .join(home_ownership_features)\n",
    "\n",
    ")\n",
    "\n",
    "print('after preprocessing') \n",
    "home_ownership_features.head()"
   ]
  },
  {
   "cell_type": "markdown",
   "id": "f92b2fa0-67df-4492-8026-aa0da594ae47",
   "metadata": {},
   "source": [
    "## Work_from_home fill NaN's with -1 and encode as ordinal"
   ]
  },
  {
   "cell_type": "code",
   "execution_count": null,
   "id": "b0bde241-5540-46cf-a5a2-83328b553978",
   "metadata": {},
   "outputs": [],
   "source": [
    "print('before preprocessing')\n",
    "info_df.work_from_home.value_counts(dropna = False)"
   ]
  },
  {
   "cell_type": "code",
   "execution_count": null,
   "id": "086d533f-e207-431a-9dd0-b24fc4e58d91",
   "metadata": {},
   "outputs": [],
   "source": [
    "info_df['work_from_home'] = info_df['work_from_home'].replace({\n",
    "    np.NaN: -1, \n",
    "    'Never': 0, \n",
    "    'Occasionally': 1, \n",
    "    'About half the time': 2, \n",
    "    'Most/all weekdays': 3\n",
    "})"
   ]
  },
  {
   "cell_type": "code",
   "execution_count": null,
   "id": "0297ec28-d1e5-462c-a890-e227636fac81",
   "metadata": {},
   "outputs": [],
   "source": [
    "print('after preprocessing')\n",
    "info_df.work_from_home.value_counts(dropna = False)"
   ]
  },
  {
   "cell_type": "markdown",
   "id": "7f114258-a617-445f-99f3-6e80502c541c",
   "metadata": {},
   "source": [
    "## Building type to ordinal"
   ]
  },
  {
   "cell_type": "code",
   "execution_count": null,
   "id": "0cab5d89-839f-4790-bfc5-91cde7208a64",
   "metadata": {},
   "outputs": [],
   "source": [
    "print('before preprocessing') \n",
    "info_df.building_type.value_counts(dropna = False)"
   ]
  },
  {
   "cell_type": "code",
   "execution_count": null,
   "id": "79616eb8-1481-49a2-a3c8-639a69f35620",
   "metadata": {},
   "outputs": [],
   "source": [
    "info_df['building_type'] = info_df['building_type'].replace({\n",
    "    np.NaN: -1, \n",
    "    \"mobile\": 0, \n",
    "    \"flat\":1, \n",
    "    'house-terraced': 2, \n",
    "    'house-semi-detached':3, \n",
    "    'house-detached': 4\n",
    "})"
   ]
  },
  {
   "cell_type": "code",
   "execution_count": null,
   "id": "92ab4d06-e23a-44a5-b338-f12baafd39dd",
   "metadata": {},
   "outputs": [],
   "source": [
    "print('after preprocessing') \n",
    "info_df.building_type.value_counts(dropna = False)"
   ]
  },
  {
   "cell_type": "markdown",
   "id": "0db6d778-8bb5-42b6-a8a8-0d0778e6bc9b",
   "metadata": {},
   "source": [
    "## TVs to count of TVs per type "
   ]
  },
  {
   "cell_type": "code",
   "execution_count": null,
   "id": "9ef55c84-4b17-4288-943e-6e5ef434d94d",
   "metadata": {},
   "outputs": [],
   "source": [
    "tv_type_columns = ['TV Type 1', 'TV Type 2', 'TV Type 3', 'TV Type 4',\n",
    "       'TV Type 5', 'TV Type 6']\n",
    "\n",
    "print('before preprocessing') \n",
    "info_df[tv_type_columns].head()"
   ]
  },
  {
   "cell_type": "code",
   "execution_count": null,
   "id": "de4079ab-c357-4a91-b2fa-4a7b7f06329b",
   "metadata": {},
   "outputs": [],
   "source": [
    "tv_counts = (\n",
    "    info_df[tv_type_columns]\n",
    "    .replace({\"Don't know\":'Unknown', 'Traditional/older style (CRT)':'crt'})\n",
    "    .apply(lambda x: x.value_counts(),axis = 1)\n",
    "    # fill NaN's with 0 \n",
    "    .fillna(0)\n",
    "    .rename(columns = lambda x: f'tv_count_{x.lower()}')\n",
    ")\n",
    "\n",
    "\n",
    "info_df = (\n",
    "    info_df\n",
    "    .drop(columns = tv_type_columns)\n",
    "    .join(tv_counts)\n",
    ")\n",
    "\n",
    "print('after preprocessing') \n",
    "tv_counts.head()"
   ]
  },
  {
   "cell_type": "markdown",
   "id": "6befbb4d-b8d4-4e07-8fee-b2c4202264c8",
   "metadata": {},
   "source": [
    "## Insulation to 0, 0.5, 1 (False, Missing, True)"
   ]
  },
  {
   "cell_type": "code",
   "execution_count": null,
   "id": "2d5df6cf-ede0-410c-8743-90135c0cfcab",
   "metadata": {},
   "outputs": [],
   "source": [
    "columns = ['insulation_double_glazing', 'insulation_roof', 'insulation_walls', 'insulation_floor', 'insulation_warm_water_tank']"
   ]
  },
  {
   "cell_type": "code",
   "execution_count": null,
   "id": "c0b3ef26-8799-4a0a-b818-1c5e0f4cd15b",
   "metadata": {},
   "outputs": [],
   "source": [
    "info_df[columns] = info_df[columns].replace({\n",
    "    'Yes':1, \n",
    "    'No': 0, \n",
    "    np.NaN: 0.5, \n",
    "    \"Don't know\": 0.5, \n",
    "})"
   ]
  },
  {
   "cell_type": "markdown",
   "id": "c538d191-d66f-4c63-af52-ad396c2f22eb",
   "metadata": {},
   "source": [
    "## Heating columns to 0, 0.5, 1 (False, Missing, True)"
   ]
  },
  {
   "cell_type": "code",
   "execution_count": null,
   "id": "e2d9747d-a2b4-41c1-a75c-498a6fc1d57e",
   "metadata": {},
   "outputs": [],
   "source": [
    "heating_columns = ['heating_gas',\n",
    "       'heating_electric', 'heating_other', 'heating_solid', 'heating_oil',\n",
    "       'heating_control_automatic_timed', 'heating_control_manual_boiler',\n",
    "       'heating_control_automatic_temperature',\n",
    "       'heating_control_manual_valves', 'heating_control_unknown']\n",
    "info_df[heating_columns].stack(dropna = False).value_counts(dropna = False)"
   ]
  },
  {
   "cell_type": "code",
   "execution_count": null,
   "id": "2eb827fb-547a-4060-b8b7-223b542bbeea",
   "metadata": {},
   "outputs": [],
   "source": [
    "info_df[heating_columns] = info_df[heating_columns].replace({\n",
    "    np.NaN: 0.5, \n",
    "    False: 0, \n",
    "    True: 1\n",
    "})"
   ]
  },
  {
   "cell_type": "markdown",
   "id": "f59dfbd0-425f-4fa0-867b-119dc91783bb",
   "metadata": {},
   "source": [
    "## The fridge freezer and appliance columns are ok"
   ]
  },
  {
   "cell_type": "code",
   "execution_count": null,
   "id": "182caed3-1dc0-4125-811c-dcfb0330424d",
   "metadata": {},
   "outputs": [],
   "source": [
    "fridge_columns = ['Fridges: type 1', 'Fridges: type 2', 'Fridges: type 3',\n",
    "       'Fridges: type 4', 'Freezers: type 1', 'Freezers: type 2',\n",
    "       'Freezers: type 3', 'Freezers: type 4', 'Freezers: type 5',\n",
    "       'Freezers: type 6', 'Fridge-Freezers: type 1',\n",
    "       'Fridge-Freezers: type 2', 'Fridge-Freezers: type 3',\n",
    "       'Fridge-Freezers: type 4']\n",
    "info_df[fridge_columns].stack().value_counts(dropna = False)"
   ]
  },
  {
   "cell_type": "code",
   "execution_count": null,
   "id": "e7b8e3ac-8819-4f1c-b199-25ccb38a47b4",
   "metadata": {},
   "outputs": [],
   "source": [
    "appliance_columns = ['Electric hob', 'Gas hob', 'Electric oven', 'Microwave',\n",
    "       'Washing machine (not with dryer)', 'Tumble dryer', 'Washer-dryer',\n",
    "       'Dishwasher', 'Electric shower', 'Over-sink electric water heater',\n",
    "       'Portable electric heater', 'Television', 'Desktop PC/computer',\n",
    "       'Laptop computer', 'Printer', 'Router (for broadband internet)',\n",
    "       'Dvd/blu-ray player', 'Cable TV box (e.g., Virgin)',\n",
    "       'Satellite TV box (E.g., Sky)', 'Freeview TV box', 'Games console',\n",
    "       'Standby savers']\n",
    "info_df[appliance_columns].stack().value_counts(dropna = False)"
   ]
  },
  {
   "cell_type": "markdown",
   "id": "baf284a6-65a5-4a1a-8fa6-c7695f79e7ee",
   "metadata": {},
   "source": [
    "## Final state"
   ]
  },
  {
   "cell_type": "code",
   "execution_count": null,
   "id": "cfe95ca9-b767-4000-9963-cdd31abd97a8",
   "metadata": {},
   "outputs": [],
   "source": [
    "info_df.columns = info_df.columns.str.lower().str.replace(': ', '_').str.replace(' ', '_')\n",
    "info_df = info_df.rename(columns = {'cable_tv_box_(e.g.,_virgin)': 'cable_tv_box', 'satellite_tv_box_(e.g.,_sky)': 'satellite_tv_box'})\n",
    "with pd.option_context('display.max_rows', None,\n",
    "                       'display.max_columns', 3):\n",
    "    display(info_df.T)\n",
    "info_df.to_pickle(result_path/'raw_info_df_numerical.pkl')"
   ]
  },
  {
   "cell_type": "markdown",
   "id": "8ce586d2-44b5-4b64-99b7-9f220b46ec29",
   "metadata": {},
   "source": [
    "# Preprocess to final version"
   ]
  },
  {
   "cell_type": "code",
   "execution_count": null,
   "id": "8dc58743-4e56-43be-9271-502531a0a47b",
   "metadata": {},
   "outputs": [],
   "source": [
    "from util import transform_raw_data_and_save, check_dataset\n",
    "\n",
    "yearly_data_df, daily_data_df, yearly_info_df, daily_info_df = transform_raw_data_and_save(\n",
    "    raw_data_df = result_path/'raw_data_df.pkl', \n",
    "    yearly_info_df = result_path/'raw_info_df_numerical.pkl', \n",
    "    result_path = preprocessed_path, \n",
    "    weather_city = 'London',\n",
    "    holiday_country = 'England', \n",
    "    year_to_use_as_index = 2012\n",
    ")\n",
    "check_dataset((yearly_data_df, daily_data_df, yearly_info_df, daily_info_df))"
   ]
  },
  {
   "cell_type": "code",
   "execution_count": null,
   "id": "a094027a-4192-4ecf-bb8e-82d50ea107ce",
   "metadata": {},
   "outputs": [],
   "source": [
    "yearly_data_df"
   ]
  },
  {
   "cell_type": "code",
   "execution_count": null,
   "id": "2c9e39b2-ed90-497c-adc6-ec6607d8f65f",
   "metadata": {},
   "outputs": [],
   "source": [
    "daily_data_df"
   ]
  },
  {
   "cell_type": "code",
   "execution_count": null,
   "id": "00161038-0750-4e64-a48d-8b7bd41e12aa",
   "metadata": {},
   "outputs": [],
   "source": [
    "yearly_info_df"
   ]
  },
  {
   "cell_type": "code",
   "execution_count": null,
   "id": "5f8d5556-5da6-4d07-b8c7-a8925971ba6b",
   "metadata": {},
   "outputs": [],
   "source": [
    "daily_data_df"
   ]
  }
 ],
 "metadata": {
  "kernelspec": {
   "display_name": "admercs",
   "language": "python",
   "name": "admercs"
  },
  "language_info": {
   "codemirror_mode": {
    "name": "ipython",
    "version": 3
   },
   "file_extension": ".py",
   "mimetype": "text/x-python",
   "name": "python",
   "nbconvert_exporter": "python",
   "pygments_lexer": "ipython3",
   "version": "3.10.6"
  }
 },
 "nbformat": 4,
 "nbformat_minor": 5
}
