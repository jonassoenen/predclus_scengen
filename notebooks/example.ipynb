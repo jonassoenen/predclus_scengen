{
 "cells": [
  {
   "cell_type": "code",
   "execution_count": 1,
   "metadata": {},
   "outputs": [],
   "source": [
    "from scengen.exp.experiment import ComparisonExperiment\n",
    "from scengen.generators import PredClusGenerator, SampleGenerator, RandomGenerator"
   ]
  },
  {
   "cell_type": "code",
   "execution_count": 2,
   "metadata": {},
   "outputs": [],
   "source": [
    "%load_ext autoreload\n",
    "%autoreload 2"
   ]
  },
  {
   "cell_type": "code",
   "execution_count": 3,
   "metadata": {
    "collapsed": false,
    "jupyter": {
     "outputs_hidden": false
    }
   },
   "outputs": [],
   "source": [
    "import numpy as np\n",
    "import pandas as pd"
   ]
  },
  {
   "cell_type": "markdown",
   "metadata": {},
   "source": [
    "## Util to generate random data"
   ]
  },
  {
   "cell_type": "code",
   "execution_count": 4,
   "metadata": {
    "collapsed": false,
    "jupyter": {
     "outputs_hidden": false
    }
   },
   "outputs": [],
   "source": [
    "random_gen = np.random.default_rng(12341)\n",
    "def random_dataset(N):\n",
    "    attributes = random_gen.random(size = (N, 25))\n",
    "    timeseries = random_gen.random(size = (N, 60))\n",
    "    folds = np.array_split(np.arange(0, N, dtype= 'int'), 5)\n",
    "    return attributes, timeseries, folds"
   ]
  },
  {
   "cell_type": "markdown",
   "metadata": {},
   "source": [
    "## Experiment interface to easily run experiments"
   ]
  },
  {
   "cell_type": "code",
   "execution_count": 5,
   "metadata": {
    "collapsed": false,
    "jupyter": {
     "outputs_hidden": false
    }
   },
   "outputs": [
    {
     "name": "stderr",
     "output_type": "stream",
     "text": [
      "Methods:   0%|              | 0/3 [00:00<?, ?it/s, method=predictive_clustering]\n",
      "Datasets:   0%|                                           | 0/2 [00:00<?, ?it/s]\u001b[A\n",
      "Datasets:   0%|                   | 0/2 [00:00<?, ?it/s, dataset=random_dataset]\u001b[A\n",
      "Datasets:   0%|              | 0/2 [00:00<?, ?it/s, dataset=deep_random_dataset]\u001b[A\n",
      "Methods:   0%|         | 0/3 [00:00<?, ?it/s, method=deep_predictive_clustering]\u001b[A\n",
      "Datasets:   0%|                                           | 0/2 [00:00<?, ?it/s]\u001b[A\n",
      "Datasets:   0%|                   | 0/2 [00:00<?, ?it/s, dataset=random_dataset]\u001b[A\n",
      "Datasets:   0%|              | 0/2 [00:00<?, ?it/s, dataset=deep_random_dataset]\u001b[A\n",
      "Methods:   0%|                    | 0/3 [00:00<?, ?it/s, method=random_baseline]\u001b[A\n",
      "Datasets:   0%|                                           | 0/2 [00:00<?, ?it/s]\u001b[A\n",
      "Datasets:   0%|                   | 0/2 [00:00<?, ?it/s, dataset=random_dataset]\u001b[A\n",
      "Datasets:   0%|              | 0/2 [00:00<?, ?it/s, dataset=deep_random_dataset]\u001b[A\n",
      "Methods: 100%|████████████| 3/3 [00:00<00:00, 30.74it/s, method=random_baseline]\u001b[A\n"
     ]
    }
   ],
   "source": [
    "from sklearn.tree import DecisionTreeRegressor\n",
    "from pathlib import Path\n",
    "\n",
    "\n",
    "\n",
    "experiment = (\n",
    "    ComparisonExperiment(result_path = Path('results/first_test'), nb_of_samples = 250)\n",
    "    .add_methods(\n",
    "        predictive_clustering =  PredClusGenerator(DecisionTreeRegressor(max_depth = 4, min_samples_leaf = 100)),\n",
    "        deep_predictive_clustering = PredClusGenerator(DecisionTreeRegressor(max_depth = 10, min_samples_leaf = 100)),\n",
    "        random_baseline = RandomGenerator(),\n",
    "    )\n",
    "    .add_datasets(\n",
    "        random_dataset = random_dataset(1000),\n",
    "        deep_random_dataset = random_dataset(10000)\n",
    "    )\n",
    ")\n",
    "\n",
    "energy_scores, timing_df = experiment.execute()\n",
    "\n",
    "\n"
   ]
  },
  {
   "cell_type": "code",
   "execution_count": 6,
   "metadata": {
    "collapsed": false,
    "jupyter": {
     "outputs_hidden": false
    }
   },
   "outputs": [
    {
     "data": {
      "text/plain": [
       "predictive_clustering       random_dataset         1.600256\n",
       "                            deep_random_dataset    1.586180\n",
       "deep_predictive_clustering  random_dataset         1.600099\n",
       "                            deep_random_dataset    1.595053\n",
       "random_baseline             random_dataset         1.587108\n",
       "                            deep_random_dataset    1.583526\n",
       "dtype: float64"
      ]
     },
     "execution_count": 6,
     "metadata": {},
     "output_type": "execute_result"
    }
   ],
   "source": [
    "energy_scores.mean(axis = 0)"
   ]
  },
  {
   "cell_type": "code",
   "execution_count": 7,
   "metadata": {
    "collapsed": false,
    "jupyter": {
     "outputs_hidden": false
    }
   },
   "outputs": [
    {
     "data": {
      "text/html": [
       "<div>\n",
       "<style scoped>\n",
       "    .dataframe tbody tr th:only-of-type {\n",
       "        vertical-align: middle;\n",
       "    }\n",
       "\n",
       "    .dataframe tbody tr th {\n",
       "        vertical-align: top;\n",
       "    }\n",
       "\n",
       "    .dataframe thead th {\n",
       "        text-align: right;\n",
       "    }\n",
       "</style>\n",
       "<table border=\"1\" class=\"dataframe\">\n",
       "  <thead>\n",
       "    <tr style=\"text-align: right;\">\n",
       "      <th></th>\n",
       "      <th></th>\n",
       "      <th>training_time</th>\n",
       "      <th>predict_time</th>\n",
       "      <th>eval_time</th>\n",
       "    </tr>\n",
       "  </thead>\n",
       "  <tbody>\n",
       "    <tr>\n",
       "      <th rowspan=\"2\" valign=\"top\">predictive_clustering</th>\n",
       "      <th>random_dataset</th>\n",
       "      <td>0.061019</td>\n",
       "      <td>0.050253</td>\n",
       "      <td>1.691875</td>\n",
       "    </tr>\n",
       "    <tr>\n",
       "      <th>deep_random_dataset</th>\n",
       "      <td>0.954830</td>\n",
       "      <td>0.212758</td>\n",
       "      <td>11.465797</td>\n",
       "    </tr>\n",
       "    <tr>\n",
       "      <th rowspan=\"2\" valign=\"top\">deep_predictive_clustering</th>\n",
       "      <th>random_dataset</th>\n",
       "      <td>0.057783</td>\n",
       "      <td>0.035363</td>\n",
       "      <td>1.303460</td>\n",
       "    </tr>\n",
       "    <tr>\n",
       "      <th>deep_random_dataset</th>\n",
       "      <td>1.554065</td>\n",
       "      <td>0.225117</td>\n",
       "      <td>11.162136</td>\n",
       "    </tr>\n",
       "    <tr>\n",
       "      <th rowspan=\"2\" valign=\"top\">random_baseline</th>\n",
       "      <th>random_dataset</th>\n",
       "      <td>0.001014</td>\n",
       "      <td>0.002900</td>\n",
       "      <td>1.209708</td>\n",
       "    </tr>\n",
       "    <tr>\n",
       "      <th>deep_random_dataset</th>\n",
       "      <td>0.009206</td>\n",
       "      <td>0.016619</td>\n",
       "      <td>11.206723</td>\n",
       "    </tr>\n",
       "  </tbody>\n",
       "</table>\n",
       "</div>"
      ],
      "text/plain": [
       "                                                training_time  predict_time  \\\n",
       "predictive_clustering      random_dataset            0.061019      0.050253   \n",
       "                           deep_random_dataset       0.954830      0.212758   \n",
       "deep_predictive_clustering random_dataset            0.057783      0.035363   \n",
       "                           deep_random_dataset       1.554065      0.225117   \n",
       "random_baseline            random_dataset            0.001014      0.002900   \n",
       "                           deep_random_dataset       0.009206      0.016619   \n",
       "\n",
       "                                                eval_time  \n",
       "predictive_clustering      random_dataset        1.691875  \n",
       "                           deep_random_dataset  11.465797  \n",
       "deep_predictive_clustering random_dataset        1.303460  \n",
       "                           deep_random_dataset  11.162136  \n",
       "random_baseline            random_dataset        1.209708  \n",
       "                           deep_random_dataset  11.206723  "
      ]
     },
     "execution_count": 7,
     "metadata": {},
     "output_type": "execute_result"
    }
   ],
   "source": [
    "timing_df"
   ]
  },
  {
   "cell_type": "markdown",
   "metadata": {},
   "source": [
    "## Use model directly\n",
    "PredClusGenerator return indices into the training data as samples"
   ]
  },
  {
   "cell_type": "code",
   "execution_count": 8,
   "metadata": {
    "collapsed": false,
    "jupyter": {
     "outputs_hidden": false
    }
   },
   "outputs": [
    {
     "data": {
      "text/plain": [
       "array([[686, 878, 430, 842,  27, 945, 967, 575, 183, 430, 979, 948, 853,\n",
       "        822, 878, 807, 103, 878, 448, 431, 222,  26, 767, 472, 222, 666,\n",
       "        767, 428, 443, 767, 378, 395, 537, 997,  26, 210, 288, 501, 656,\n",
       "         91, 866, 183, 210, 763, 997, 631, 784, 192,  27, 547, 594, 902,\n",
       "        590, 464, 378, 822, 551, 587, 656, 459, 986, 686,  91, 106, 242,\n",
       "        686, 551, 206, 549, 698, 448, 388, 228, 399, 395, 662, 448,  99,\n",
       "        767, 624, 210, 878, 431, 853, 575, 299,  27, 387, 439, 948, 979,\n",
       "        656, 547, 590,  27, 222, 939, 183, 594, 784]])"
      ]
     },
     "execution_count": 8,
     "metadata": {},
     "output_type": "execute_result"
    }
   ],
   "source": [
    "model =  PredClusGenerator(DecisionTreeRegressor(max_depth = 4, min_samples_leaf = 100))\n",
    "attributes, timeseries, _ = random_dataset(1000)\n",
    "model.fit(attributes, timeseries)\n",
    "\n",
    "test_attributes = np.random.random(size = (1, attributes.shape[1]))\n",
    "indices = model.generate(test_attributes, nb_of_samples=100)\n",
    "indices"
   ]
  },
  {
   "cell_type": "code",
   "execution_count": 9,
   "metadata": {
    "collapsed": false,
    "jupyter": {
     "outputs_hidden": false
    }
   },
   "outputs": [
    {
     "data": {
      "text/plain": [
       "array([[[0.2415198 , 0.75387274, 0.26422107, ..., 0.96814494,\n",
       "         0.67340923, 0.36798739],\n",
       "        [0.99780454, 0.280338  , 0.90977746, ..., 0.67024508,\n",
       "         0.31100458, 0.53114583],\n",
       "        [0.20877777, 0.18014385, 0.2944819 , ..., 0.80748466,\n",
       "         0.28548786, 0.10630231],\n",
       "        ...,\n",
       "        [0.248911  , 0.99671839, 0.40318031, ..., 0.19930912,\n",
       "         0.51447441, 0.76210028],\n",
       "        [0.00557693, 0.65897661, 0.20228979, ..., 0.57175415,\n",
       "         0.23961878, 0.21937   ],\n",
       "        [0.57300573, 0.54048898, 0.74094221, ..., 0.11522324,\n",
       "         0.79037419, 0.75520914]]])"
      ]
     },
     "execution_count": 9,
     "metadata": {},
     "output_type": "execute_result"
    }
   ],
   "source": [
    "timeseries[indices]"
   ]
  },
  {
   "cell_type": "markdown",
   "metadata": {},
   "source": [
    "## Or use SampleGenerator"
   ]
  },
  {
   "cell_type": "code",
   "execution_count": 10,
   "metadata": {
    "collapsed": false,
    "jupyter": {
     "outputs_hidden": false
    }
   },
   "outputs": [
    {
     "data": {
      "text/plain": [
       "array([[[0.43598369, 0.60072358, 0.31484912, ..., 0.42516335,\n",
       "         0.52254863, 0.66331509],\n",
       "        [0.6951836 , 0.20883989, 0.66906737, ..., 0.75085161,\n",
       "         0.31178081, 0.12893107],\n",
       "        [0.28331309, 0.74695556, 0.55673988, ..., 0.65450282,\n",
       "         0.12120573, 0.75807615],\n",
       "        ...,\n",
       "        [0.08286575, 0.23712262, 0.20793288, ..., 0.91949695,\n",
       "         0.11382682, 0.53372636],\n",
       "        [0.75697657, 0.46873517, 0.17631605, ..., 0.55037928,\n",
       "         0.53166968, 0.2767308 ],\n",
       "        [0.14158569, 0.0125864 , 0.11432212, ..., 0.24642059,\n",
       "         0.38376258, 0.16403611]]])"
      ]
     },
     "execution_count": 10,
     "metadata": {},
     "output_type": "execute_result"
    }
   ],
   "source": [
    "model =  SampleGenerator(PredClusGenerator(DecisionTreeRegressor(max_depth = 4, min_samples_leaf = 100)))\n",
    "attributes, timeseries, _ = random_dataset(1000)\n",
    "model.fit(attributes, timeseries)\n",
    "\n",
    "test_attributes = np.random.random(size = (1, attributes.shape[1]))\n",
    "timeseries = model.generate_timeseries(test_attributes, nb_of_samples=100)\n",
    "timeseries"
   ]
  },
  {
   "cell_type": "markdown",
   "metadata": {
    "jupyter": {
     "outputs_hidden": false
    }
   },
   "source": [
    "# Interpretability"
   ]
  },
  {
   "cell_type": "markdown",
   "metadata": {},
   "source": [
    "This package also contains a few utilities to help interpret the resulting model "
   ]
  },
  {
   "cell_type": "code",
   "execution_count": 11,
   "metadata": {},
   "outputs": [],
   "source": [
    "# fit a model\n",
    "model =  PredClusGenerator(DecisionTreeRegressor(max_depth = 4, min_samples_leaf = 100))\n",
    "attributes, timeseries, _ = random_dataset(1000)\n",
    "model.fit(attributes, timeseries)"
   ]
  },
  {
   "cell_type": "code",
   "execution_count": 12,
   "metadata": {},
   "outputs": [
    {
     "data": {
      "text/html": [
       "<div>\n",
       "<style scoped>\n",
       "    .dataframe tbody tr th:only-of-type {\n",
       "        vertical-align: middle;\n",
       "    }\n",
       "\n",
       "    .dataframe tbody tr th {\n",
       "        vertical-align: top;\n",
       "    }\n",
       "\n",
       "    .dataframe thead th {\n",
       "        text-align: right;\n",
       "    }\n",
       "</style>\n",
       "<table border=\"1\" class=\"dataframe\">\n",
       "  <thead>\n",
       "    <tr style=\"text-align: right;\">\n",
       "      <th></th>\n",
       "      <th>attr0</th>\n",
       "      <th>attr1</th>\n",
       "      <th>attr2</th>\n",
       "      <th>attr3</th>\n",
       "      <th>attr4</th>\n",
       "      <th>attr5</th>\n",
       "      <th>attr6</th>\n",
       "      <th>attr7</th>\n",
       "      <th>attr8</th>\n",
       "      <th>attr9</th>\n",
       "      <th>...</th>\n",
       "      <th>attr15</th>\n",
       "      <th>attr16</th>\n",
       "      <th>attr17</th>\n",
       "      <th>attr18</th>\n",
       "      <th>attr19</th>\n",
       "      <th>attr20</th>\n",
       "      <th>attr21</th>\n",
       "      <th>attr22</th>\n",
       "      <th>attr23</th>\n",
       "      <th>attr24</th>\n",
       "    </tr>\n",
       "  </thead>\n",
       "  <tbody>\n",
       "    <tr>\n",
       "      <th>0</th>\n",
       "      <td>0.900883</td>\n",
       "      <td>0.579304</td>\n",
       "      <td>0.981243</td>\n",
       "      <td>0.604337</td>\n",
       "      <td>0.228136</td>\n",
       "      <td>0.527990</td>\n",
       "      <td>0.862140</td>\n",
       "      <td>0.116562</td>\n",
       "      <td>0.438714</td>\n",
       "      <td>0.694746</td>\n",
       "      <td>...</td>\n",
       "      <td>0.116647</td>\n",
       "      <td>0.724818</td>\n",
       "      <td>0.880297</td>\n",
       "      <td>0.845364</td>\n",
       "      <td>0.901087</td>\n",
       "      <td>0.523532</td>\n",
       "      <td>0.325197</td>\n",
       "      <td>0.681547</td>\n",
       "      <td>0.465153</td>\n",
       "      <td>0.495952</td>\n",
       "    </tr>\n",
       "    <tr>\n",
       "      <th>1</th>\n",
       "      <td>0.846325</td>\n",
       "      <td>0.365613</td>\n",
       "      <td>0.743619</td>\n",
       "      <td>0.968505</td>\n",
       "      <td>0.198840</td>\n",
       "      <td>0.972674</td>\n",
       "      <td>0.318804</td>\n",
       "      <td>0.235581</td>\n",
       "      <td>0.435145</td>\n",
       "      <td>0.360923</td>\n",
       "      <td>...</td>\n",
       "      <td>0.951097</td>\n",
       "      <td>0.552413</td>\n",
       "      <td>0.749836</td>\n",
       "      <td>0.001554</td>\n",
       "      <td>0.911510</td>\n",
       "      <td>0.319231</td>\n",
       "      <td>0.136199</td>\n",
       "      <td>0.336776</td>\n",
       "      <td>0.243565</td>\n",
       "      <td>0.014090</td>\n",
       "    </tr>\n",
       "    <tr>\n",
       "      <th>2</th>\n",
       "      <td>0.599070</td>\n",
       "      <td>0.086467</td>\n",
       "      <td>0.000698</td>\n",
       "      <td>0.361318</td>\n",
       "      <td>0.991688</td>\n",
       "      <td>0.765150</td>\n",
       "      <td>0.232925</td>\n",
       "      <td>0.797855</td>\n",
       "      <td>0.744841</td>\n",
       "      <td>0.593621</td>\n",
       "      <td>...</td>\n",
       "      <td>0.371171</td>\n",
       "      <td>0.712341</td>\n",
       "      <td>0.786580</td>\n",
       "      <td>0.483663</td>\n",
       "      <td>0.309702</td>\n",
       "      <td>0.726471</td>\n",
       "      <td>0.839932</td>\n",
       "      <td>0.128212</td>\n",
       "      <td>0.988604</td>\n",
       "      <td>0.939474</td>\n",
       "    </tr>\n",
       "    <tr>\n",
       "      <th>3</th>\n",
       "      <td>0.871337</td>\n",
       "      <td>0.115934</td>\n",
       "      <td>0.619605</td>\n",
       "      <td>0.976076</td>\n",
       "      <td>0.184401</td>\n",
       "      <td>0.748886</td>\n",
       "      <td>0.577401</td>\n",
       "      <td>0.781689</td>\n",
       "      <td>0.555699</td>\n",
       "      <td>0.305838</td>\n",
       "      <td>...</td>\n",
       "      <td>0.505073</td>\n",
       "      <td>0.158089</td>\n",
       "      <td>0.480146</td>\n",
       "      <td>0.532069</td>\n",
       "      <td>0.818749</td>\n",
       "      <td>0.873275</td>\n",
       "      <td>0.672326</td>\n",
       "      <td>0.974249</td>\n",
       "      <td>0.914695</td>\n",
       "      <td>0.061930</td>\n",
       "    </tr>\n",
       "    <tr>\n",
       "      <th>4</th>\n",
       "      <td>0.665427</td>\n",
       "      <td>0.337792</td>\n",
       "      <td>0.784562</td>\n",
       "      <td>0.737917</td>\n",
       "      <td>0.151080</td>\n",
       "      <td>0.711425</td>\n",
       "      <td>0.532877</td>\n",
       "      <td>0.619332</td>\n",
       "      <td>0.977759</td>\n",
       "      <td>0.246525</td>\n",
       "      <td>...</td>\n",
       "      <td>0.021729</td>\n",
       "      <td>0.077137</td>\n",
       "      <td>0.927293</td>\n",
       "      <td>0.121515</td>\n",
       "      <td>0.870603</td>\n",
       "      <td>0.292752</td>\n",
       "      <td>0.934475</td>\n",
       "      <td>0.063880</td>\n",
       "      <td>0.381937</td>\n",
       "      <td>0.716201</td>\n",
       "    </tr>\n",
       "    <tr>\n",
       "      <th>...</th>\n",
       "      <td>...</td>\n",
       "      <td>...</td>\n",
       "      <td>...</td>\n",
       "      <td>...</td>\n",
       "      <td>...</td>\n",
       "      <td>...</td>\n",
       "      <td>...</td>\n",
       "      <td>...</td>\n",
       "      <td>...</td>\n",
       "      <td>...</td>\n",
       "      <td>...</td>\n",
       "      <td>...</td>\n",
       "      <td>...</td>\n",
       "      <td>...</td>\n",
       "      <td>...</td>\n",
       "      <td>...</td>\n",
       "      <td>...</td>\n",
       "      <td>...</td>\n",
       "      <td>...</td>\n",
       "      <td>...</td>\n",
       "      <td>...</td>\n",
       "    </tr>\n",
       "    <tr>\n",
       "      <th>995</th>\n",
       "      <td>0.713562</td>\n",
       "      <td>0.630738</td>\n",
       "      <td>0.228696</td>\n",
       "      <td>0.572606</td>\n",
       "      <td>0.953009</td>\n",
       "      <td>0.143299</td>\n",
       "      <td>0.737865</td>\n",
       "      <td>0.837683</td>\n",
       "      <td>0.660303</td>\n",
       "      <td>0.817469</td>\n",
       "      <td>...</td>\n",
       "      <td>0.099958</td>\n",
       "      <td>0.843026</td>\n",
       "      <td>0.472556</td>\n",
       "      <td>0.514108</td>\n",
       "      <td>0.673982</td>\n",
       "      <td>0.692214</td>\n",
       "      <td>0.000366</td>\n",
       "      <td>0.850794</td>\n",
       "      <td>0.879485</td>\n",
       "      <td>0.840036</td>\n",
       "    </tr>\n",
       "    <tr>\n",
       "      <th>996</th>\n",
       "      <td>0.036723</td>\n",
       "      <td>0.852547</td>\n",
       "      <td>0.849143</td>\n",
       "      <td>0.377178</td>\n",
       "      <td>0.065597</td>\n",
       "      <td>0.170670</td>\n",
       "      <td>0.375298</td>\n",
       "      <td>0.721524</td>\n",
       "      <td>0.250171</td>\n",
       "      <td>0.835108</td>\n",
       "      <td>...</td>\n",
       "      <td>0.918408</td>\n",
       "      <td>0.694101</td>\n",
       "      <td>0.522319</td>\n",
       "      <td>0.804866</td>\n",
       "      <td>0.997517</td>\n",
       "      <td>0.786573</td>\n",
       "      <td>0.209955</td>\n",
       "      <td>0.882162</td>\n",
       "      <td>0.567388</td>\n",
       "      <td>0.784201</td>\n",
       "    </tr>\n",
       "    <tr>\n",
       "      <th>997</th>\n",
       "      <td>0.940979</td>\n",
       "      <td>0.108860</td>\n",
       "      <td>0.280657</td>\n",
       "      <td>0.413787</td>\n",
       "      <td>0.565952</td>\n",
       "      <td>0.829288</td>\n",
       "      <td>0.773733</td>\n",
       "      <td>0.722288</td>\n",
       "      <td>0.482624</td>\n",
       "      <td>0.000565</td>\n",
       "      <td>...</td>\n",
       "      <td>0.401912</td>\n",
       "      <td>0.227091</td>\n",
       "      <td>0.466422</td>\n",
       "      <td>0.409052</td>\n",
       "      <td>0.053874</td>\n",
       "      <td>0.527519</td>\n",
       "      <td>0.480707</td>\n",
       "      <td>0.116499</td>\n",
       "      <td>0.700471</td>\n",
       "      <td>0.919007</td>\n",
       "    </tr>\n",
       "    <tr>\n",
       "      <th>998</th>\n",
       "      <td>0.321948</td>\n",
       "      <td>0.782206</td>\n",
       "      <td>0.537420</td>\n",
       "      <td>0.157452</td>\n",
       "      <td>0.289603</td>\n",
       "      <td>0.579328</td>\n",
       "      <td>0.068567</td>\n",
       "      <td>0.667490</td>\n",
       "      <td>0.764037</td>\n",
       "      <td>0.163963</td>\n",
       "      <td>...</td>\n",
       "      <td>0.953138</td>\n",
       "      <td>0.458727</td>\n",
       "      <td>0.516644</td>\n",
       "      <td>0.898312</td>\n",
       "      <td>0.956436</td>\n",
       "      <td>0.577646</td>\n",
       "      <td>0.623550</td>\n",
       "      <td>0.424661</td>\n",
       "      <td>0.889858</td>\n",
       "      <td>0.081319</td>\n",
       "    </tr>\n",
       "    <tr>\n",
       "      <th>999</th>\n",
       "      <td>0.345960</td>\n",
       "      <td>0.373448</td>\n",
       "      <td>0.596474</td>\n",
       "      <td>0.702013</td>\n",
       "      <td>0.362918</td>\n",
       "      <td>0.615834</td>\n",
       "      <td>0.025361</td>\n",
       "      <td>0.188175</td>\n",
       "      <td>0.532014</td>\n",
       "      <td>0.317178</td>\n",
       "      <td>...</td>\n",
       "      <td>0.451254</td>\n",
       "      <td>0.788242</td>\n",
       "      <td>0.235878</td>\n",
       "      <td>0.413580</td>\n",
       "      <td>0.328840</td>\n",
       "      <td>0.610601</td>\n",
       "      <td>0.107933</td>\n",
       "      <td>0.093703</td>\n",
       "      <td>0.023098</td>\n",
       "      <td>0.007858</td>\n",
       "    </tr>\n",
       "  </tbody>\n",
       "</table>\n",
       "<p>1000 rows × 25 columns</p>\n",
       "</div>"
      ],
      "text/plain": [
       "        attr0     attr1     attr2     attr3     attr4     attr5     attr6  \\\n",
       "0    0.900883  0.579304  0.981243  0.604337  0.228136  0.527990  0.862140   \n",
       "1    0.846325  0.365613  0.743619  0.968505  0.198840  0.972674  0.318804   \n",
       "2    0.599070  0.086467  0.000698  0.361318  0.991688  0.765150  0.232925   \n",
       "3    0.871337  0.115934  0.619605  0.976076  0.184401  0.748886  0.577401   \n",
       "4    0.665427  0.337792  0.784562  0.737917  0.151080  0.711425  0.532877   \n",
       "..        ...       ...       ...       ...       ...       ...       ...   \n",
       "995  0.713562  0.630738  0.228696  0.572606  0.953009  0.143299  0.737865   \n",
       "996  0.036723  0.852547  0.849143  0.377178  0.065597  0.170670  0.375298   \n",
       "997  0.940979  0.108860  0.280657  0.413787  0.565952  0.829288  0.773733   \n",
       "998  0.321948  0.782206  0.537420  0.157452  0.289603  0.579328  0.068567   \n",
       "999  0.345960  0.373448  0.596474  0.702013  0.362918  0.615834  0.025361   \n",
       "\n",
       "        attr7     attr8     attr9  ...    attr15    attr16    attr17  \\\n",
       "0    0.116562  0.438714  0.694746  ...  0.116647  0.724818  0.880297   \n",
       "1    0.235581  0.435145  0.360923  ...  0.951097  0.552413  0.749836   \n",
       "2    0.797855  0.744841  0.593621  ...  0.371171  0.712341  0.786580   \n",
       "3    0.781689  0.555699  0.305838  ...  0.505073  0.158089  0.480146   \n",
       "4    0.619332  0.977759  0.246525  ...  0.021729  0.077137  0.927293   \n",
       "..        ...       ...       ...  ...       ...       ...       ...   \n",
       "995  0.837683  0.660303  0.817469  ...  0.099958  0.843026  0.472556   \n",
       "996  0.721524  0.250171  0.835108  ...  0.918408  0.694101  0.522319   \n",
       "997  0.722288  0.482624  0.000565  ...  0.401912  0.227091  0.466422   \n",
       "998  0.667490  0.764037  0.163963  ...  0.953138  0.458727  0.516644   \n",
       "999  0.188175  0.532014  0.317178  ...  0.451254  0.788242  0.235878   \n",
       "\n",
       "       attr18    attr19    attr20    attr21    attr22    attr23    attr24  \n",
       "0    0.845364  0.901087  0.523532  0.325197  0.681547  0.465153  0.495952  \n",
       "1    0.001554  0.911510  0.319231  0.136199  0.336776  0.243565  0.014090  \n",
       "2    0.483663  0.309702  0.726471  0.839932  0.128212  0.988604  0.939474  \n",
       "3    0.532069  0.818749  0.873275  0.672326  0.974249  0.914695  0.061930  \n",
       "4    0.121515  0.870603  0.292752  0.934475  0.063880  0.381937  0.716201  \n",
       "..        ...       ...       ...       ...       ...       ...       ...  \n",
       "995  0.514108  0.673982  0.692214  0.000366  0.850794  0.879485  0.840036  \n",
       "996  0.804866  0.997517  0.786573  0.209955  0.882162  0.567388  0.784201  \n",
       "997  0.409052  0.053874  0.527519  0.480707  0.116499  0.700471  0.919007  \n",
       "998  0.898312  0.956436  0.577646  0.623550  0.424661  0.889858  0.081319  \n",
       "999  0.413580  0.328840  0.610601  0.107933  0.093703  0.023098  0.007858  \n",
       "\n",
       "[1000 rows x 25 columns]"
      ]
     },
     "execution_count": 12,
     "metadata": {},
     "output_type": "execute_result"
    }
   ],
   "source": [
    "# for interpretability feature names are required\n",
    "attribute_df = pd.DataFrame(attributes, columns = [f\"attr{i}\" for i in range(attributes.shape[1])])\n",
    "attribute_df"
   ]
  },
  {
   "cell_type": "code",
   "execution_count": 14,
   "metadata": {},
   "outputs": [
    {
     "data": {
      "text/plain": [
       "<scengen.vis.tree.VisTree at 0x7fd0929f5960>"
      ]
     },
     "execution_count": 14,
     "metadata": {},
     "output_type": "execute_result"
    }
   ],
   "source": [
    "vistree = model.to_visualization_tree(attribute_df)\n",
    "vistree"
   ]
  },
  {
   "cell_type": "markdown",
   "metadata": {},
   "source": [
    "## For easy visualization you can compress the tree \n",
    "This operation compresses multiple binary splits on the same attribute to a single n-ary split  \n",
    "(in this random examples this won't have any influence on the result)"
   ]
  },
  {
   "cell_type": "code",
   "execution_count": 18,
   "metadata": {},
   "outputs": [],
   "source": [
    "vistree = vistree.compress_tree()"
   ]
  },
  {
   "cell_type": "markdown",
   "metadata": {},
   "source": [
    "## quick visualization with printing"
   ]
  },
  {
   "cell_type": "code",
   "execution_count": 19,
   "metadata": {},
   "outputs": [
    {
     "name": "stdout",
     "output_type": "stream",
     "text": [
      " -  attr22 <= 0.6903134882450104\n",
      "\t -  attr17 <= 0.531973272562027\n",
      "\t\t -  attr1 <= 0.6982715427875519\n",
      "\t\t\t -  attr24 <= 0.48257778584957123\n",
      "\t\t\t -  attr24 > 0.48257778584957123\n",
      "\t\t -  attr1 > 0.6982715427875519\n",
      "\t -  attr17 > 0.531973272562027\n",
      "\t\t -  attr16 <= 0.40566296875476837\n",
      "\t\t -  attr16 > 0.40566296875476837\n",
      "\t\t\t -  attr8 <= 0.4680955111980438\n",
      "\t\t\t -  attr8 > 0.4680955111980438\n",
      " -  attr22 > 0.6903134882450104\n",
      "\t -  attr8 <= 0.6549617350101471\n",
      "\t -  attr8 > 0.6549617350101471\n"
     ]
    }
   ],
   "source": [
    "vistree.print_tree()"
   ]
  },
  {
   "cell_type": "markdown",
   "metadata": {},
   "source": [
    "## More extensive visualization through plotting"
   ]
  },
  {
   "cell_type": "code",
   "execution_count": 28,
   "metadata": {},
   "outputs": [
    {
     "data": {
      "image/png": "[encoded data removed]",
      "text/plain": [
       "<Figure size 800x500 with 1 Axes>"
      ]
     },
     "metadata": {},
     "output_type": "display_data"
    }
   ],
   "source": [
    "vistree.plot_tree(figsize = (8,5)) # You might have to tinker with the aspect ratio and size to get a readeable figure "
   ]
  },
  {
   "cell_type": "markdown",
   "metadata": {},
   "source": [
    "## In this tree the individual nodes have more precise plotting functionalities"
   ]
  },
  {
   "cell_type": "code",
   "execution_count": 35,
   "metadata": {},
   "outputs": [
    {
     "name": "stderr",
     "output_type": "stream",
     "text": [
      "/home/jonas/miniconda3/envs/scengen/lib/python3.10/site-packages/altair/utils/core.py:317: FutureWarning: iteritems is deprecated and will be removed in a future version. Use .items instead.\n",
      "  for col_name, dtype in df.dtypes.iteritems():\n"
     ]
    },
    {
     "data": {
      "text/html": [
       "\n",
       "<div id=\"altair-viz-c246e57dd38544d89e0f190b25a20123\"></div>\n",
       "<script type=\"text/javascript\">\n",
       "  var VEGA_DEBUG = (typeof VEGA_DEBUG == \"undefined\") ? {} : VEGA_DEBUG;\n",
       "  (function(spec, embedOpt){\n",
       "    let outputDiv = document.currentScript.previousElementSibling;\n",
       "    if (outputDiv.id !== \"altair-viz-c246e57dd38544d89e0f190b25a20123\") {\n",
       "      outputDiv = document.getElementById(\"altair-viz-c246e57dd38544d89e0f190b25a20123\");\n",
       "    }\n",
       "    const paths = {\n",
       "      \"vega\": \"https://cdn.jsdelivr.net/npm//vega@5?noext\",\n",
       "      \"vega-lib\": \"https://cdn.jsdelivr.net/npm//vega-lib?noext\",\n",
       "      \"vega-lite\": \"https://cdn.jsdelivr.net/npm//vega-lite@4.17.0?noext\",\n",
       "      \"vega-embed\": \"https://cdn.jsdelivr.net/npm//vega-embed@6?noext\",\n",
       "    };\n",
       "\n",
       "    function maybeLoadScript(lib, version) {\n",
       "      var key = `${lib.replace(\"-\", \"\")}_version`;\n",
       "      return (VEGA_DEBUG[key] == version) ?\n",
       "        Promise.resolve(paths[lib]) :\n",
       "        new Promise(function(resolve, reject) {\n",
       "          var s = document.createElement('script');\n",
       "          document.getElementsByTagName(\"head\")[0].appendChild(s);\n",
       "          s.async = true;\n",
       "          s.onload = () => {\n",
       "            VEGA_DEBUG[key] = version;\n",
       "            return resolve(paths[lib]);\n",
       "          };\n",
       "          s.onerror = () => reject(`Error loading script: ${paths[lib]}`);\n",
       "          s.src = paths[lib];\n",
       "        });\n",
       "    }\n",
       "\n",
       "    function showError(err) {\n",
       "      outputDiv.innerHTML = `<div class=\"error\" style=\"color:red;\">${err}</div>`;\n",
       "      throw err;\n",
       "    }\n",
       "\n",
       "    function displayChart(vegaEmbed) {\n",
       "      vegaEmbed(outputDiv, spec, embedOpt)\n",
       "        .catch(err => showError(`Javascript Error: ${err.message}<br>This usually means there's a typo in your chart specification. See the javascript console for the full traceback.`));\n",
       "    }\n",
       "\n",
       "    if(typeof define === \"function\" && define.amd) {\n",
       "      requirejs.config({paths});\n",
       "      require([\"vega-embed\"], displayChart, err => showError(`Error loading script: ${err.message}`));\n",
       "    } else {\n",
       "      maybeLoadScript(\"vega\", \"5\")\n",
       "        .then(() => maybeLoadScript(\"vega-lite\", \"4.17.0\"))\n",
       "        .then(() => maybeLoadScript(\"vega-embed\", \"6\"))\n",
       "        .catch(showError)\n",
       "        .then(() => displayChart(vegaEmbed));\n",
       "    }\n",
       "  })({\"config\": {\"view\": {\"continuousWidth\": 400, \"continuousHeight\": 300}}, \"layer\": [{\"data\": {\"name\": \"data-de651308fd68ac374cac11aae83a2a16\"}, \"mark\": \"area\", \"encoding\": {\"x\": {\"field\": \"x\", \"title\": \"attr22\", \"type\": \"quantitative\"}, \"y\": {\"field\": \"kde\", \"type\": \"quantitative\"}}}, {\"data\": {\"name\": \"data-769f25d7de8932c929ed5fa0536b814d\"}, \"mark\": \"rule\", \"encoding\": {\"x\": {\"field\": \"threshold\", \"type\": \"quantitative\"}}}], \"$schema\": \"https://vega.github.io/schema/vega-lite/v4.17.0.json\", \"datasets\": {\"data-de651308fd68ac374cac11aae83a2a16\": [{\"x\": 1.8221691107656035e-05, \"kde\": 0.5068758433026298}, {\"x\": 0.01011346770719588, \"kde\": 0.5589022127364532}, {\"x\": 0.020208713723284102, \"kde\": 0.6090786259961642}, {\"x\": 0.030303959739372326, \"kde\": 0.656482133159698}, {\"x\": 0.04039920575546055, \"kde\": 0.700353729839655}, {\"x\": 0.05049445177154877, \"kde\": 0.7401390196846959}, {\"x\": 0.060589697787636995, \"kde\": 0.7755114312000332}, {\"x\": 0.07068494380372523, \"kde\": 0.8063765498791352}, {\"x\": 0.08078018981981344, \"kde\": 0.8328581467166185}, {\"x\": 0.09087543583590166, \"kde\": 0.8552682959885314}, {\"x\": 0.10097068185198989, \"kde\": 0.8740653803579931}, {\"x\": 0.11106592786807812, \"kde\": 0.8898046639416364}, {\"x\": 0.12116117388416633, \"kde\": 0.9030864402334847}, {\"x\": 0.13125641990025455, \"kde\": 0.9145065649045285}, {\"x\": 0.1413516659163428, \"kde\": 0.9246135416547717}, {\"x\": 0.151446911932431, \"kde\": 0.9338753455964844}, {\"x\": 0.16154215794851923, \"kde\": 0.9426579580734468}, {\"x\": 0.17163740396460744, \"kde\": 0.9512162706958472}, {\"x\": 0.18173264998069566, \"kde\": 0.9596967207767885}, {\"x\": 0.1918278959967839, \"kde\": 0.9681498730563455}, {\"x\": 0.20192314201287212, \"kde\": 0.9765502841057159}, {\"x\": 0.21201838802896034, \"kde\": 0.984820473621752}, {\"x\": 0.22211363404504858, \"kde\": 0.9928557360839988}, {\"x\": 0.2322088800611368, \"kde\": 1.0005468531021107}, {\"x\": 0.242304126077225, \"kde\": 1.007798441583245}, {\"x\": 0.25239937209331326, \"kde\": 1.0145415679770293}, {\"x\": 0.26249461810940145, \"kde\": 1.0207402116524458}, {\"x\": 0.2725898641254897, \"kde\": 1.0263920067358767}, {\"x\": 0.28268511014157793, \"kde\": 1.0315243014545785}, {\"x\": 0.2927803561576661, \"kde\": 1.0361868794670273}, {\"x\": 0.30287560217375437, \"kde\": 1.0404426960924005}, {\"x\": 0.31297084818984255, \"kde\": 1.0443577694419655}, {\"x\": 0.3230660942059308, \"kde\": 1.0479910520479219}, {\"x\": 0.33316134022201904, \"kde\": 1.0513848214172028}, {\"x\": 0.34325658623810723, \"kde\": 1.0545559688845831}, {\"x\": 0.3533518322541955, \"kde\": 1.0574885799069222}, {\"x\": 0.36344707827028366, \"kde\": 1.0601283617590542}, {\"x\": 0.3735423242863719, \"kde\": 1.0623797011823155}, {\"x\": 0.38363757030246015, \"kde\": 1.0641063025687254}, {\"x\": 0.39373281631854834, \"kde\": 1.065136343041104}, {\"x\": 0.4038280623346366, \"kde\": 1.0652727970307596}, {\"x\": 0.41392330835072483, \"kde\": 1.0643090088899543}, {\"x\": 0.424018554366813, \"kde\": 1.062048787797476}, {\"x\": 0.43411380038290126, \"kde\": 1.058329399827647}, {\"x\": 0.4442090463989895, \"kde\": 1.0530450219480478}, {\"x\": 0.4543042924150777, \"kde\": 1.0461676951430088}, {\"x\": 0.46439953843116594, \"kde\": 1.0377627248539303}, {\"x\": 0.4744947844472541, \"kde\": 1.0279959045006697}, {\"x\": 0.48459003046334237, \"kde\": 1.0171308568899597}, {\"x\": 0.4946852764794306, \"kde\": 1.0055160682927595}, {\"x\": 0.5047805224955189, \"kde\": 0.9935626173874332}, {\"x\": 0.514875768511607, \"kde\": 0.9817149227416523}, {\"x\": 0.5249710145276952, \"kde\": 0.970417808887466}, {\"x\": 0.5350662605437835, \"kde\": 0.96008364966322}, {\"x\": 0.5451615065598717, \"kde\": 0.9510632196612814}, {\"x\": 0.55525675257596, \"kde\": 0.9436232187865918}, {\"x\": 0.5653519985920482, \"kde\": 0.937932382150704}, {\"x\": 0.5754472446081363, \"kde\": 0.9340568630571727}, {\"x\": 0.5855424906242246, \"kde\": 0.9319644081662742}, {\"x\": 0.5956377366403128, \"kde\": 0.9315359190847202}, {\"x\": 0.6057329826564011, \"kde\": 0.9325824242755524}, {\"x\": 0.6158282286724893, \"kde\": 0.934865287827868}, {\"x\": 0.6259234746885775, \"kde\": 0.9381175942548726}, {\"x\": 0.6360187207046657, \"kde\": 0.9420649575761336}, {\"x\": 0.6461139667207539, \"kde\": 0.9464443849592921}, {\"x\": 0.6562092127368422, \"kde\": 0.951020183651622}, {\"x\": 0.6663044587529304, \"kde\": 0.9555961878989795}, {\"x\": 0.6763997047690186, \"kde\": 0.9600238051657103}, {\"x\": 0.6864949507851068, \"kde\": 0.9642055792712398}, {\"x\": 0.696590196801195, \"kde\": 0.9680941917277611}, {\"x\": 0.7066854428172833, \"kde\": 0.9716871023594937}, {\"x\": 0.7167806888333715, \"kde\": 0.9750173603377952}, {\"x\": 0.7268759348494597, \"kde\": 0.9781414527221319}, {\"x\": 0.7369711808655479, \"kde\": 0.981125330593804}, {\"x\": 0.7470664268816362, \"kde\": 0.9840298936526478}, {\"x\": 0.7571616728977244, \"kde\": 0.986897178266053}, {\"x\": 0.7672569189138126, \"kde\": 0.9897382790853467}, {\"x\": 0.7773521649299009, \"kde\": 0.9925236839684058}, {\"x\": 0.787447410945989, \"kde\": 0.9951762947266158}, {\"x\": 0.7975426569620773, \"kde\": 0.9975670350540349}, {\"x\": 0.8076379029781655, \"kde\": 0.9995126948904872}, {\"x\": 0.8177331489942538, \"kde\": 1.0007755803141614}, {\"x\": 0.827828395010342, \"kde\": 1.0010646414010138}, {\"x\": 0.8379236410264301, \"kde\": 1.000038006663875}, {\"x\": 0.8480188870425184, \"kde\": 0.9973071965856589}, {\"x\": 0.8581141330586066, \"kde\": 0.9924436337333409}, {\"x\": 0.8682093790746949, \"kde\": 0.9849883194002955}, {\"x\": 0.8783046250907831, \"kde\": 0.9744656204848127}, {\"x\": 0.8883998711068714, \"kde\": 0.9604019401158779}, {\"x\": 0.8984951171229595, \"kde\": 0.9423496000009245}, {\"x\": 0.9085903631390477, \"kde\": 0.9199155558706933}, {\"x\": 0.918685609155136, \"kde\": 0.8927936680272757}, {\"x\": 0.9287808551712242, \"kde\": 0.8607982802215334}, {\"x\": 0.9388761011873125, \"kde\": 0.8238959899259393}, {\"x\": 0.9489713472034006, \"kde\": 0.7822319101899703}, {\"x\": 0.9590665932194888, \"kde\": 0.7361466009787979}, {\"x\": 0.9691618392355771, \"kde\": 0.6861803026728112}, {\"x\": 0.9792570852516653, \"kde\": 0.6330621590304724}, {\"x\": 0.9893523312677536, \"kde\": 0.5776836794375068}, {\"x\": 0.9994475772838417, \"kde\": 0.5210575572629049}], \"data-769f25d7de8932c929ed5fa0536b814d\": [{\"threshold\": 0.6903134882450104}]}}, {\"mode\": \"vega-lite\"});\n",
       "</script>"
      ],
      "text/plain": [
       "alt.LayerChart(...)"
      ]
     },
     "execution_count": 35,
     "metadata": {},
     "output_type": "execute_result"
    }
   ],
   "source": [
    "vistree.root_node.plot_attribute_distribution(attribute_df)"
   ]
  },
  {
   "cell_type": "code",
   "execution_count": 37,
   "metadata": {},
   "outputs": [
    {
     "name": "stderr",
     "output_type": "stream",
     "text": [
      "/home/jonas/miniconda3/envs/scengen/lib/python3.10/site-packages/altair/utils/core.py:317: FutureWarning: iteritems is deprecated and will be removed in a future version. Use .items instead.\n",
      "  for col_name, dtype in df.dtypes.iteritems():\n"
     ]
    },
    {
     "data": {
      "text/html": [
       "\n",
       "<div id=\"altair-viz-9906051b4bb34ba9be151ee0f0d564f1\"></div>\n",
       "<script type=\"text/javascript\">\n",
       "  var VEGA_DEBUG = (typeof VEGA_DEBUG == \"undefined\") ? {} : VEGA_DEBUG;\n",
       "  (function(spec, embedOpt){\n",
       "    let outputDiv = document.currentScript.previousElementSibling;\n",
       "    if (outputDiv.id !== \"altair-viz-9906051b4bb34ba9be151ee0f0d564f1\") {\n",
       "      outputDiv = document.getElementById(\"altair-viz-9906051b4bb34ba9be151ee0f0d564f1\");\n",
       "    }\n",
       "    const paths = {\n",
       "      \"vega\": \"https://cdn.jsdelivr.net/npm//vega@5?noext\",\n",
       "      \"vega-lib\": \"https://cdn.jsdelivr.net/npm//vega-lib?noext\",\n",
       "      \"vega-lite\": \"https://cdn.jsdelivr.net/npm//vega-lite@4.17.0?noext\",\n",
       "      \"vega-embed\": \"https://cdn.jsdelivr.net/npm//vega-embed@6?noext\",\n",
       "    };\n",
       "\n",
       "    function maybeLoadScript(lib, version) {\n",
       "      var key = `${lib.replace(\"-\", \"\")}_version`;\n",
       "      return (VEGA_DEBUG[key] == version) ?\n",
       "        Promise.resolve(paths[lib]) :\n",
       "        new Promise(function(resolve, reject) {\n",
       "          var s = document.createElement('script');\n",
       "          document.getElementsByTagName(\"head\")[0].appendChild(s);\n",
       "          s.async = true;\n",
       "          s.onload = () => {\n",
       "            VEGA_DEBUG[key] = version;\n",
       "            return resolve(paths[lib]);\n",
       "          };\n",
       "          s.onerror = () => reject(`Error loading script: ${paths[lib]}`);\n",
       "          s.src = paths[lib];\n",
       "        });\n",
       "    }\n",
       "\n",
       "    function showError(err) {\n",
       "      outputDiv.innerHTML = `<div class=\"error\" style=\"color:red;\">${err}</div>`;\n",
       "      throw err;\n",
       "    }\n",
       "\n",
       "    function displayChart(vegaEmbed) {\n",
       "      vegaEmbed(outputDiv, spec, embedOpt)\n",
       "        .catch(err => showError(`Javascript Error: ${err.message}<br>This usually means there's a typo in your chart specification. See the javascript console for the full traceback.`));\n",
       "    }\n",
       "\n",
       "    if(typeof define === \"function\" && define.amd) {\n",
       "      requirejs.config({paths});\n",
       "      require([\"vega-embed\"], displayChart, err => showError(`Error loading script: ${err.message}`));\n",
       "    } else {\n",
       "      maybeLoadScript(\"vega\", \"5\")\n",
       "        .then(() => maybeLoadScript(\"vega-lite\", \"4.17.0\"))\n",
       "        .then(() => maybeLoadScript(\"vega-embed\", \"6\"))\n",
       "        .catch(showError)\n",
       "        .then(() => displayChart(vegaEmbed));\n",
       "    }\n",
       "  })({\"config\": {\"view\": {\"continuousWidth\": 400, \"continuousHeight\": 300}}, \"layer\": [{\"data\": {\"name\": \"data-31933289791f10067bc2118547737caf\"}, \"mark\": \"area\", \"encoding\": {\"x\": {\"field\": \"x\", \"title\": \"attr1\", \"type\": \"quantitative\"}, \"y\": {\"field\": \"kde\", \"type\": \"quantitative\"}}}, {\"data\": {\"name\": \"data-007276b9f59e3ddc35eb822947eaadbc\"}, \"mark\": \"rule\", \"encoding\": {\"x\": {\"field\": \"threshold\", \"type\": \"quantitative\"}}}], \"$schema\": \"https://vega.github.io/schema/vega-lite/v4.17.0.json\", \"datasets\": {\"data-31933289791f10067bc2118547737caf\": [{\"x\": 0.001893666654110726, \"kde\": 0.5281414698099743}, {\"x\": 0.011950732569990791, \"kde\": 0.5740494372881666}, {\"x\": 0.022007798485870856, \"kde\": 0.6186342525417106}, {\"x\": 0.03206486440175092, \"kde\": 0.6612099166371158}, {\"x\": 0.042121930317630986, \"kde\": 0.7011563927205572}, {\"x\": 0.05217899623351105, \"kde\": 0.7379481156375466}, {\"x\": 0.06223606214939112, \"kde\": 0.7711779851906457}, {\"x\": 0.07229312806527118, \"kde\": 0.8005751984530772}, {\"x\": 0.08235019398115125, \"kde\": 0.8260156786801711}, {\"x\": 0.09240725989703132, \"kde\": 0.8475243670177415}, {\"x\": 0.10246432581291137, \"kde\": 0.8652692161558058}, {\"x\": 0.11252139172879144, \"kde\": 0.8795473134762829}, {\"x\": 0.12257845764467151, \"kde\": 0.8907641144130168}, {\"x\": 0.13263552356055158, \"kde\": 0.8994072372152541}, {\"x\": 0.14269258947643162, \"kde\": 0.906016618637904}, {\"x\": 0.1527496553923117, \"kde\": 0.9111530288616062}, {\"x\": 0.16280672130819177, \"kde\": 0.9153669805125884}, {\"x\": 0.17286378722407184, \"kde\": 0.9191699441697986}, {\"x\": 0.1829208531399519, \"kde\": 0.9230095194651141}, {\"x\": 0.19297791905583195, \"kde\": 0.9272498376687721}, {\"x\": 0.20303498497171202, \"kde\": 0.9321580281112353}, {\"x\": 0.2130920508875921, \"kde\": 0.9378971105043217}, {\"x\": 0.22314911680347216, \"kde\": 0.9445252207571271}, {\"x\": 0.23320618271935223, \"kde\": 0.9520006762605956}, {\"x\": 0.2432632486352323, \"kde\": 0.9601920658268356}, {\"x\": 0.25332031455111237, \"kde\": 0.9688923264116619}, {\"x\": 0.26337738046699244, \"kde\": 0.9778356487532639}, {\"x\": 0.27343444638287245, \"kde\": 0.9867160318931912}, {\"x\": 0.2834915122987525, \"kde\": 0.99520636855445}, {\"x\": 0.2935485782146326, \"kde\": 1.0029770702846863}, {\"x\": 0.30360564413051266, \"kde\": 1.0097134112891304}, {\"x\": 0.31366271004639273, \"kde\": 1.0151309612891097}, {\"x\": 0.3237197759622728, \"kde\": 1.0189886711801734}, {\"x\": 0.3337768418781529, \"kde\": 1.0210993551181613}, {\"x\": 0.34383390779403294, \"kde\": 1.0213374677800087}, {\"x\": 0.353890973709913, \"kde\": 1.019644199313475}, {\"x\": 0.3639480396257931, \"kde\": 1.0160300004599145}, {\"x\": 0.37400510554167316, \"kde\": 1.010574707597987}, {\"x\": 0.38406217145755317, \"kde\": 1.0034254659027129}, {\"x\": 0.39411923737343324, \"kde\": 0.9947926543845766}, {\"x\": 0.4041763032893133, \"kde\": 0.9849440065543917}, {\"x\": 0.4142333692051934, \"kde\": 0.9741971028250238}, {\"x\": 0.42429043512107345, \"kde\": 0.9629103935406311}, {\"x\": 0.4343475010369535, \"kde\": 0.9514729021790287}, {\"x\": 0.4444045669528336, \"kde\": 0.9402927630686873}, {\"x\": 0.45446163286871366, \"kde\": 0.9297847713442057}, {\"x\": 0.46451869878459373, \"kde\": 0.9203571668693827}, {\"x\": 0.4745757647004738, \"kde\": 0.9123979376131631}, {\"x\": 0.48463283061635387, \"kde\": 0.906261007349345}, {\"x\": 0.4946898965322339, \"kde\": 0.9022527601057312}, {\"x\": 0.504746962448114, \"kde\": 0.9006194389594667}, {\"x\": 0.5148040283639941, \"kde\": 0.9015360265817354}, {\"x\": 0.5248610942798742, \"kde\": 0.9050972550919506}, {\"x\": 0.5349181601957542, \"kde\": 0.9113113892684837}, {\"x\": 0.5449752261116342, \"kde\": 0.9200973681411665}, {\"x\": 0.5550322920275143, \"kde\": 0.9312857678802171}, {\"x\": 0.5650893579433943, \"kde\": 0.9446238623377351}, {\"x\": 0.5751464238592744, \"kde\": 0.9597848129657656}, {\"x\": 0.5852034897751545, \"kde\": 0.9763807319562352}, {\"x\": 0.5952605556910345, \"kde\": 0.9939790542387443}, {\"x\": 0.6053176216069146, \"kde\": 1.0121213548238754}, {\"x\": 0.6153746875227947, \"kde\": 1.0303434909140914}, {\"x\": 0.6254317534386747, \"kde\": 1.0481957660264503}, {\"x\": 0.6354888193545548, \"kde\": 1.065261734265891}, {\"x\": 0.6455458852704349, \"kde\": 1.0811743060653465}, {\"x\": 0.655602951186315, \"kde\": 1.0956279887912697}, {\"x\": 0.665660017102195, \"kde\": 1.1083863884101561}, {\"x\": 0.6757170830180751, \"kde\": 1.1192844885880906}, {\"x\": 0.6857741489339552, \"kde\": 1.1282256744706587}, {\"x\": 0.6958312148498352, \"kde\": 1.1351739337823497}, {\"x\": 0.7058882807657153, \"kde\": 1.1401420975708494}, {\"x\": 0.7159453466815954, \"kde\": 1.1431773290069238}, {\"x\": 0.7260024125974754, \"kde\": 1.1443452919218586}, {\"x\": 0.7360594785133555, \"kde\": 1.1437145060911618}, {\"x\": 0.7461165444292356, \"kde\": 1.14134231620096}, {\"x\": 0.7561736103451155, \"kde\": 1.1372636773868845}, {\"x\": 0.7662306762609956, \"kde\": 1.1314836210974053}, {\"x\": 0.7762877421768757, \"kde\": 1.1239738532734702}, {\"x\": 0.7863448080927558, \"kde\": 1.114673502739496}, {\"x\": 0.7964018740086358, \"kde\": 1.1034936325455313}, {\"x\": 0.8064589399245159, \"kde\": 1.090324796191282}, {\"x\": 0.816516005840396, \"kde\": 1.075046697823416}, {\"x\": 0.826573071756276, \"kde\": 1.0575389183797885}, {\"x\": 0.8366301376721561, \"kde\": 1.0376916984231017}, {\"x\": 0.8466872035880362, \"kde\": 1.0154159065028874}, {\"x\": 0.8567442695039162, \"kde\": 0.9906515392715928}, {\"x\": 0.8668013354197963, \"kde\": 0.9633743578207928}, {\"x\": 0.8768584013356764, \"kde\": 0.9336005230639252}, {\"x\": 0.8869154672515565, \"kde\": 0.9013893146180804}, {\"x\": 0.8969725331674365, \"kde\": 0.8668441748666459}, {\"x\": 0.9070295990833166, \"kde\": 0.8301123979072916}, {\"x\": 0.9170866649991967, \"kde\": 0.7913837814461174}, {\"x\": 0.9271437309150767, \"kde\": 0.7508884914420599}, {\"x\": 0.9372007968309568, \"kde\": 0.7088942780349469}, {\"x\": 0.9472578627468369, \"kde\": 0.6657030565910275}, {\"x\": 0.957314928662717, \"kde\": 0.621646759773764}, {\"x\": 0.967371994578597, \"kde\": 0.5770823009423726}, {\"x\": 0.977429060494477, \"kde\": 0.5323854824814724}, {\"x\": 0.987486126410357, \"kde\": 0.4879437398503284}, {\"x\": 0.9975431923262372, \"kde\": 0.44414772599638025}], \"data-007276b9f59e3ddc35eb822947eaadbc\": [{\"threshold\": 0.6982715427875519}]}}, {\"mode\": \"vega-lite\"});\n",
       "</script>"
      ],
      "text/plain": [
       "alt.LayerChart(...)"
      ]
     },
     "execution_count": 37,
     "metadata": {},
     "output_type": "execute_result"
    }
   ],
   "source": [
    "vistree.root_node.children[0][2].children[0][2].plot_attribute_distribution(attribute_df)"
   ]
  },
  {
   "cell_type": "code",
   "execution_count": null,
   "metadata": {},
   "outputs": [],
   "source": []
  },
  {
   "cell_type": "code",
   "execution_count": null,
   "metadata": {},
   "outputs": [],
   "source": []
  }
 ],
 "metadata": {
  "kernelspec": {
   "display_name": "scengen",
   "language": "python",
   "name": "scengen"
  },
  "language_info": {
   "codemirror_mode": {
    "name": "ipython",
    "version": 3
   },
   "file_extension": ".py",
   "mimetype": "text/x-python",
   "name": "python",
   "nbconvert_exporter": "python",
   "pygments_lexer": "ipython3",
   "version": "3.10.8"
  }
 },
 "nbformat": 4,
 "nbformat_minor": 4
}
