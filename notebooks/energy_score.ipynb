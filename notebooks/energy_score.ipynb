{
 "cells": [
  {
   "cell_type": "code",
   "execution_count": null,
   "metadata": {
    "collapsed": true
   },
   "outputs": [],
   "source": [
    "from scengen.exp.experiment import ComparisonExperiment\n",
    "from scengen.generators import PredClusGenerator"
   ]
  },
  {
   "cell_type": "code",
   "execution_count": null,
   "outputs": [],
   "source": [
    "import numpy as np"
   ],
   "metadata": {
    "collapsed": false
   }
  },
  {
   "cell_type": "code",
   "execution_count": null,
   "outputs": [],
   "source": [
    "random_gen = np.random.default_rng(12341)\n",
    "def random_dataset(N):\n",
    "    attributes = random_gen.random(size = (N, 25))\n",
    "    timeseries = random_gen.random(size = (N, 60))\n",
    "    folds = np.array_split(np.arange(0, N, dtype= 'int'), 5)\n",
    "    return attributes, timeseries, folds"
   ],
   "metadata": {
    "collapsed": false
   }
  },
  {
   "cell_type": "code",
   "execution_count": null,
   "outputs": [],
   "source": [
    "from sklearn.tree import DecisionTreeRegressor\n",
    "from pathlib import Path\n",
    "\n",
    "\n",
    "\n",
    "experiment = (\n",
    "    ComparisonExperiment(result_path = Path('results/first_test'), nb_of_samples = 250)\n",
    "    .add_methods(\n",
    "        predictive_clustering =  PredClusGenerator(DecisionTreeRegressor(max_depth = 4, min_samples_leaf = 100)),\n",
    "        deep_predictive_clustering = PredClusGenerator(DecisionTreeRegressor(max_depth = 10, min_samples_leaf = 100))\n",
    "    )\n",
    "    .add_datasets(\n",
    "        random_dataset = random_dataset(1000),\n",
    "        deep_random_dataset = random_dataset(10000)\n",
    "    )\n",
    ")\n",
    "\n",
    "energy_scores, timing_df = experiment.execute()\n",
    "\n",
    "\n"
   ],
   "metadata": {
    "collapsed": false
   }
  },
  {
   "cell_type": "code",
   "execution_count": null,
   "outputs": [],
   "source": [
    "energy_scores.mean(axis = 0)"
   ],
   "metadata": {
    "collapsed": false
   }
  },
  {
   "cell_type": "code",
   "execution_count": null,
   "outputs": [],
   "source": [
    "timing_df"
   ],
   "metadata": {
    "collapsed": false
   }
  }
 ],
 "metadata": {
  "kernelspec": {
   "name": "admercs",
   "language": "python",
   "display_name": "admercs"
  },
  "language_info": {
   "codemirror_mode": {
    "name": "ipython",
    "version": 2
   },
   "file_extension": ".py",
   "mimetype": "text/x-python",
   "name": "python",
   "nbconvert_exporter": "python",
   "pygments_lexer": "ipython2",
   "version": "2.7.6"
  }
 },
 "nbformat": 4,
 "nbformat_minor": 0
}
